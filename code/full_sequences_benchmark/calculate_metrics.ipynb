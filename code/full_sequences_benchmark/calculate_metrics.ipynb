{
 "cells": [
  {
   "cell_type": "code",
   "execution_count": 52,
   "metadata": {},
   "outputs": [],
   "source": [
    "import numpy as np\n",
    "import pandas as pd\n",
    "from ast import literal_eval"
   ]
  },
  {
   "cell_type": "code",
   "execution_count": 53,
   "metadata": {},
   "outputs": [],
   "source": [
    "dataset_path = '../../data/benchmark/lt2_windows__cvs_gt2.csv'\n",
    "# dataset_path = '../../data/benchmark/multiple_windows.csv'\n",
    "\n",
    "n_preds_path = '../../data/benchmark/preds2/n_bilstm.npy'\n",
    "c_preds_path = '../../data/benchmark/preds2/c_bilstm.npy'\n",
    "# n_preds_path = '../../data/benchmark/preds/n_bilstm_mw.npy'\n",
    "# c_preds_path = '../../data/benchmark/preds/c_bilstm_mw.npy'"
   ]
  },
  {
   "cell_type": "code",
   "execution_count": 54,
   "metadata": {},
   "outputs": [
    {
     "data": {
      "text/html": [
       "<div>\n",
       "<style scoped>\n",
       "    .dataframe tbody tr th:only-of-type {\n",
       "        vertical-align: middle;\n",
       "    }\n",
       "\n",
       "    .dataframe tbody tr th {\n",
       "        vertical-align: top;\n",
       "    }\n",
       "\n",
       "    .dataframe thead th {\n",
       "        text-align: right;\n",
       "    }\n",
       "</style>\n",
       "<table border=\"1\" class=\"dataframe\">\n",
       "  <thead>\n",
       "    <tr style=\"text-align: right;\">\n",
       "      <th></th>\n",
       "      <th>protein</th>\n",
       "      <th>cleavages</th>\n",
       "    </tr>\n",
       "  </thead>\n",
       "  <tbody>\n",
       "    <tr>\n",
       "      <th>0</th>\n",
       "      <td>AAADSAQWLSVKEETIFLHDGLIRVTDLAELPSEILGAPEAADTDL...</td>\n",
       "      <td>[(52, 63), (17, 25), (52, 62)]</td>\n",
       "    </tr>\n",
       "    <tr>\n",
       "      <th>1</th>\n",
       "      <td>ACAWLEAQEEEEVGFPVRPQVPLRPMTYKAAVDLSHFLKEKGGLEG...</td>\n",
       "      <td>[(29, 37), (141, 150), (141, 149)]</td>\n",
       "    </tr>\n",
       "    <tr>\n",
       "      <th>2</th>\n",
       "      <td>AFAQRALSDSLSRRLRRHVPTHQSRRRSLGHLSPTARRACEDAIRC...</td>\n",
       "      <td>[(108, 116), (92, 100), (103, 112), (74, 82), ...</td>\n",
       "    </tr>\n",
       "    <tr>\n",
       "      <th>3</th>\n",
       "      <td>AWRRRRSGTSGKATWWCSGLRRASPTPSRRVQSWATAVMWKPSPSS...</td>\n",
       "      <td>[(224, 232), (225, 233), (219, 232), (65, 73)]</td>\n",
       "    </tr>\n",
       "    <tr>\n",
       "      <th>4</th>\n",
       "      <td>DHVASCGVNLYQFYGPSGQFTHEFDGDEQFYVDLEKKETAWRWPEF...</td>\n",
       "      <td>[(38, 46), (22, 31), (22, 32), (41, 49), (22, ...</td>\n",
       "    </tr>\n",
       "  </tbody>\n",
       "</table>\n",
       "</div>"
      ],
      "text/plain": [
       "                                             protein  \\\n",
       "0  AAADSAQWLSVKEETIFLHDGLIRVTDLAELPSEILGAPEAADTDL...   \n",
       "1  ACAWLEAQEEEEVGFPVRPQVPLRPMTYKAAVDLSHFLKEKGGLEG...   \n",
       "2  AFAQRALSDSLSRRLRRHVPTHQSRRRSLGHLSPTARRACEDAIRC...   \n",
       "3  AWRRRRSGTSGKATWWCSGLRRASPTPSRRVQSWATAVMWKPSPSS...   \n",
       "4  DHVASCGVNLYQFYGPSGQFTHEFDGDEQFYVDLEKKETAWRWPEF...   \n",
       "\n",
       "                                           cleavages  \n",
       "0                     [(52, 63), (17, 25), (52, 62)]  \n",
       "1                 [(29, 37), (141, 150), (141, 149)]  \n",
       "2  [(108, 116), (92, 100), (103, 112), (74, 82), ...  \n",
       "3     [(224, 232), (225, 233), (219, 232), (65, 73)]  \n",
       "4  [(38, 46), (22, 31), (22, 32), (41, 49), (22, ...  "
      ]
     },
     "execution_count": 54,
     "metadata": {},
     "output_type": "execute_result"
    }
   ],
   "source": [
    "data_df = pd.read_csv(dataset_path)\n",
    "data_df.head()"
   ]
  },
  {
   "cell_type": "code",
   "execution_count": 55,
   "metadata": {},
   "outputs": [
    {
     "data": {
      "text/plain": [
       "((867,), (867,))"
      ]
     },
     "execution_count": 55,
     "metadata": {},
     "output_type": "execute_result"
    }
   ],
   "source": [
    "c_preds = np.load(c_preds_path, allow_pickle=True)\n",
    "n_preds = np.load(n_preds_path, allow_pickle=True)\n",
    "\n",
    "n_preds.shape, c_preds.shape"
   ]
  },
  {
   "cell_type": "code",
   "execution_count": 56,
   "metadata": {},
   "outputs": [],
   "source": [
    "cleavages = data_df['cleavages'].apply(literal_eval).values\n",
    "seq_lens = data_df['protein'].apply(len).values"
   ]
  },
  {
   "cell_type": "code",
   "execution_count": null,
   "metadata": {},
   "outputs": [],
   "source": []
  },
  {
   "cell_type": "code",
   "execution_count": 57,
   "metadata": {},
   "outputs": [],
   "source": [
    "n_targets = [np.zeros(seq_len + 1) for seq_len in seq_lens]\n",
    "c_targets = [np.zeros(seq_len + 1) for seq_len in seq_lens]\n",
    "\n",
    "for i, cleavage in enumerate(cleavages):\n",
    "    for n, c in cleavage:\n",
    "        n_targets[i][n - 1] = 1\n",
    "        c_targets[i][c - 1] = 1"
   ]
  },
  {
   "cell_type": "code",
   "execution_count": 58,
   "metadata": {},
   "outputs": [
    {
     "data": {
      "text/plain": [
       "array([-3.2045133 , -3.0644724 , -1.408026  , -2.5832248 , -0.44022518,\n",
       "       -2.1950707 , -2.823868  , -0.38425207, -0.3735503 , -1.8601568 ,\n",
       "        0.02383512, -2.1377647 , -2.3594515 , -3.8930326 ,  0.07437387,\n",
       "       -2.7454762 , -2.9066367 , -1.9665983 , -3.4921436 , -2.6278203 ,\n",
       "       -0.30534035, -2.2129552 , -3.0399616 , -0.46046   , -3.767939  ,\n",
       "       -1.0728917 , -2.1627965 , -3.7752395 , -0.542604  , -0.33313546,\n",
       "       -1.0053073 , -2.2808053 , -2.7424672 , -2.1569288 , -0.915859  ,\n",
       "       -2.3251555 , -0.16411853, -3.8421817 , -0.30619296, -3.5005846 ,\n",
       "       -2.7760854 , -2.780663  , -1.3426548 , -1.5695144 , -3.1111577 ,\n",
       "       -1.4744104 , -2.3218412 , -0.41199258, -3.8716834 , -2.6851134 ,\n",
       "       -2.6471095 ,  0.8338969 , -1.803036  , -2.7413776 , -2.3006647 ,\n",
       "       -0.27255052, -3.5176506 , -2.470628  , -4.0747695 , -2.0933304 ,\n",
       "        0.03494543, -1.4781314 , -0.59190464, -3.2157302 , -2.6623993 ,\n",
       "       -1.9971602 , -0.2703954 , -0.92445886, -3.7382371 , -4.3493066 ,\n",
       "       -2.0543454 , -3.668147  , -1.2153138 , -1.3270108 ,  0.05908152,\n",
       "       -3.2441614 , -3.0677419 , -4.182818  , -2.8268838 ,  0.47451362,\n",
       "       -1.8734753 , -0.51320124, -3.831745  , -0.68155706, -3.0862842 ,\n",
       "       -3.0173826 , -4.382724  , -3.3363066 , -3.4298408 , -3.2958505 ,\n",
       "        0.52143407, -1.9856148 , -0.13556653, -3.674953  , -2.247451  ,\n",
       "       -2.333167  , -3.8685122 , -3.6501577 , -1.2199368 , -2.1521194 ],\n",
       "      dtype=float32)"
      ]
     },
     "execution_count": 58,
     "metadata": {},
     "output_type": "execute_result"
    }
   ],
   "source": [
    "n_preds[1][:100]"
   ]
  },
  {
   "cell_type": "code",
   "execution_count": 59,
   "metadata": {},
   "outputs": [],
   "source": [
    "def sigmoid(x):\n",
    "    return 1 / (1 + np.exp(-x))"
   ]
  },
  {
   "cell_type": "code",
   "execution_count": 60,
   "metadata": {},
   "outputs": [],
   "source": [
    "n_preds = [sigmoid(pred) for pred in n_preds]\n",
    "c_preds = [sigmoid(pred) for pred in c_preds]"
   ]
  },
  {
   "cell_type": "code",
   "execution_count": null,
   "metadata": {},
   "outputs": [],
   "source": []
  },
  {
   "cell_type": "code",
   "execution_count": 61,
   "metadata": {},
   "outputs": [
    {
     "data": {
      "text/plain": [
       "(array([0.47876072, 0.5029633 , 0.07842755, 0.14323705, 0.12321841,\n",
       "        0.48906526, 0.04013983, 0.03583249, 0.18274674, 0.4774193 ,\n",
       "        0.02608224, 0.14954412, 0.14144686, 0.3850394 , 0.05950657,\n",
       "        0.06935667, 0.47075415, 0.19519816, 0.10516324, 0.05621112,\n",
       "        0.22311105, 0.08618405, 0.2435909 , 0.31173128, 0.29806244,\n",
       "        0.06920571, 0.12242689, 0.03868599, 0.73293287, 0.06250806,\n",
       "        0.45553225, 0.03728284, 0.24892925, 0.08303662, 0.09686234,\n",
       "        0.06921058, 0.09772661, 0.4429918 , 0.02311199, 0.41711235,\n",
       "        0.2604124 , 0.07043609, 0.20962507, 0.18779391, 0.05252269,\n",
       "        0.32656884, 0.14496736, 0.08137866, 0.23375149, 0.05961177,\n",
       "        0.16208184, 0.41056636, 0.07572564, 0.02312028, 0.27686352,\n",
       "        0.05322523, 0.19059572, 0.08273079, 0.05685503, 0.37363422,\n",
       "        0.2068649 , 0.22957133, 0.02907626, 0.10430396, 0.470769  ,\n",
       "        0.05402324, 0.01812214, 0.04460135, 0.21787813, 0.24422844,\n",
       "        0.02125387, 0.42603716, 0.14595233, 0.2136076 , 0.45818406,\n",
       "        0.59041154, 0.0252283 , 0.16083364, 0.04072062, 0.33492303,\n",
       "        0.336987  , 0.03826806, 0.11399255, 0.23219009, 0.06151631,\n",
       "        0.04341983, 0.69247866, 0.02757397, 0.01976464, 0.09285825,\n",
       "        0.4057239 , 0.17180395, 0.22170112, 0.078733  , 0.11853971,\n",
       "        0.23787458, 0.15579994, 0.29676694, 0.07717077, 0.21990779,\n",
       "        0.44444284, 0.02791772, 0.28255492, 0.17735568, 0.09452348,\n",
       "        0.0552571 , 0.07107879, 0.14124517, 0.38974914, 0.11925859],\n",
       "       dtype=float32),\n",
       " array([0., 0., 0., 0., 0., 0., 0., 0., 0., 0., 0., 0., 0., 0., 0., 0., 1.,\n",
       "        0., 0., 0., 0., 0., 0., 0., 0., 0., 0., 0., 0., 0., 0., 0., 0., 0.,\n",
       "        0., 0., 0., 0., 0., 0., 0., 0., 0., 0., 0., 0., 0., 0., 0., 0., 0.,\n",
       "        1., 0., 0., 0., 0., 0., 0., 0., 0., 0., 0., 0., 0., 0., 0., 0., 0.,\n",
       "        0., 0., 0., 0., 0., 0., 0., 0., 0., 0., 0., 0., 0., 0., 0., 0., 0.,\n",
       "        0., 0., 0., 0., 0., 0., 0., 0., 0., 0., 0., 0., 0., 0., 0., 0., 0.,\n",
       "        0., 0., 0., 0., 0., 0., 0., 0.]))"
      ]
     },
     "execution_count": 61,
     "metadata": {},
     "output_type": "execute_result"
    }
   ],
   "source": [
    "n_preds[0], n_targets[0]"
   ]
  },
  {
   "cell_type": "code",
   "execution_count": 62,
   "metadata": {},
   "outputs": [
    {
     "data": {
      "text/plain": [
       "array([ 0.47876072,  0.5029633 ,  0.07842755,  0.14323705,  0.12321841,\n",
       "        0.48906526,  0.04013983,  0.03583249,  0.18274674,  0.47741929,\n",
       "        0.02608224,  0.14954412,  0.14144686,  0.38503939,  0.05950657,\n",
       "        0.06935667, -0.52924585,  0.19519816,  0.10516324,  0.05621112,\n",
       "        0.22311105,  0.08618405,  0.24359091,  0.31173128,  0.29806244,\n",
       "        0.06920571,  0.12242689,  0.03868599,  0.73293287,  0.06250806,\n",
       "        0.45553225,  0.03728284,  0.24892925,  0.08303662,  0.09686234,\n",
       "        0.06921058,  0.09772661,  0.44299179,  0.02311199,  0.41711235,\n",
       "        0.2604124 ,  0.07043609,  0.20962507,  0.18779391,  0.05252269,\n",
       "        0.32656884,  0.14496736,  0.08137866,  0.23375149,  0.05961177,\n",
       "        0.16208184, -0.58943364,  0.07572564,  0.02312028,  0.27686352,\n",
       "        0.05322523,  0.19059572,  0.08273079,  0.05685503,  0.37363422,\n",
       "        0.20686489,  0.22957133,  0.02907626,  0.10430396,  0.47076899,\n",
       "        0.05402324,  0.01812214,  0.04460135,  0.21787813,  0.24422844,\n",
       "        0.02125387,  0.42603716,  0.14595233,  0.21360759,  0.45818406,\n",
       "        0.59041154,  0.0252283 ,  0.16083364,  0.04072062,  0.33492303,\n",
       "        0.33698699,  0.03826806,  0.11399255,  0.23219009,  0.06151631,\n",
       "        0.04341983,  0.69247866,  0.02757397,  0.01976464,  0.09285825,\n",
       "        0.4057239 ,  0.17180395,  0.22170112,  0.078733  ,  0.11853971,\n",
       "        0.23787458,  0.15579994,  0.29676694,  0.07717077,  0.21990779,\n",
       "        0.44444284,  0.02791772,  0.28255492,  0.17735568,  0.09452348,\n",
       "        0.0552571 ,  0.07107879,  0.14124517,  0.38974914,  0.11925859])"
      ]
     },
     "execution_count": 62,
     "metadata": {},
     "output_type": "execute_result"
    }
   ],
   "source": [
    "n_preds[0] - n_targets[0]"
   ]
  },
  {
   "cell_type": "code",
   "execution_count": 63,
   "metadata": {},
   "outputs": [
    {
     "data": {
      "text/plain": [
       "((397783,), (397783,), (397783,), (397783,))"
      ]
     },
     "execution_count": 63,
     "metadata": {},
     "output_type": "execute_result"
    }
   ],
   "source": [
    "c_preds_concat = np.concatenate(c_preds)\n",
    "n_preds_concat = np.concatenate(n_preds)\n",
    "\n",
    "c_targets_concat = np.concatenate(c_targets)\n",
    "n_targets_concat = np.concatenate(n_targets)\n",
    "\n",
    "c_preds_concat.shape, n_preds_concat.shape, c_targets_concat.shape, n_targets_concat.shape"
   ]
  },
  {
   "cell_type": "code",
   "execution_count": 64,
   "metadata": {},
   "outputs": [],
   "source": [
    "from sklearn import metrics"
   ]
  },
  {
   "cell_type": "code",
   "execution_count": 65,
   "metadata": {},
   "outputs": [
    {
     "name": "stdout",
     "output_type": "stream",
     "text": [
      "C - Terminus ROC AUC: 0.4727632251547016\n",
      "N - Terminus ROC AUC: 0.6774328159481535\n"
     ]
    }
   ],
   "source": [
    "fpr_c, tpr_c, thresholds_c = metrics.roc_curve(c_targets_concat, c_preds_concat)\n",
    "fpr_n, tpr_n, thresholds_n = metrics.roc_curve(n_targets_concat, n_preds_concat)\n",
    "\n",
    "roc_auc_c = metrics.auc(fpr_c, tpr_c)\n",
    "roc_auc_n = metrics.auc(fpr_n, tpr_n)\n",
    "\n",
    "print(f\"C - Terminus ROC AUC: {roc_auc_c}\")\n",
    "print(f\"N - Terminus ROC AUC: {roc_auc_n}\")"
   ]
  },
  {
   "cell_type": "code",
   "execution_count": 66,
   "metadata": {},
   "outputs": [],
   "source": [
    "import matplotlib.pyplot as plt"
   ]
  },
  {
   "cell_type": "code",
   "execution_count": 67,
   "metadata": {},
   "outputs": [
    {
     "data": {
      "image/png": "[encoded data removed]",
      "text/plain": [
       "<Figure size 1200x600 with 2 Axes>"
      ]
     },
     "metadata": {},
     "output_type": "display_data"
    }
   ],
   "source": [
    "# plot ROC curves for both models (on separate plots):\n",
    "\n",
    "fig, ax = plt.subplots(1, 2, figsize=(12, 6))\n",
    "ax[0].plot(fpr_c, tpr_c, label=f\"C - Terminus ROC AUC: {roc_auc_c}\")\n",
    "ax[0].plot([0, 1], [0, 1], 'k--')\n",
    "ax[0].set_xlabel('False Positive Rate')\n",
    "ax[0].set_ylabel('True Positive Rate')\n",
    "ax[0].set_title('C - Terminus ROC Curve')\n",
    "ax[0].legend()\n",
    "\n",
    "ax[1].plot(fpr_n, tpr_n, label=f\"N - Terminus ROC AUC: {roc_auc_n}\")\n",
    "ax[1].plot([0, 1], [0, 1], 'k--')\n",
    "ax[1].set_xlabel('False Positive Rate')\n",
    "ax[1].set_ylabel('True Positive Rate')\n",
    "ax[1].set_title('N - Terminus ROC Curve')\n",
    "ax[1].legend()\n",
    "\n",
    "plt.show()"
   ]
  },
  {
   "cell_type": "code",
   "execution_count": 68,
   "metadata": {},
   "outputs": [
    {
     "name": "stdout",
     "output_type": "stream",
     "text": [
      "C Terminus Precission: 0.006300027391423441\n",
      "N Terminus Precission: 0.030858369098712448\n"
     ]
    }
   ],
   "source": [
    "print(f\"C Terminus Precission: {metrics.precision_score(c_targets_concat, c_preds_concat > 0.5)}\")\n",
    "print(f\"N Terminus Precission: {metrics.precision_score(n_targets_concat, n_preds_concat > 0.5)}\")"
   ]
  },
  {
   "cell_type": "code",
   "execution_count": 69,
   "metadata": {},
   "outputs": [
    {
     "name": "stdout",
     "output_type": "stream",
     "text": [
      "C Terminus Recall: 0.05578011317704123\n"
     ]
    },
    {
     "name": "stdout",
     "output_type": "stream",
     "text": [
      "N Terminus Recall: 0.19359181475498116\n"
     ]
    }
   ],
   "source": [
    "print(f\"C Terminus Recall: {metrics.recall_score(c_targets_concat, c_preds_concat > 0.5)}\")\n",
    "print(f\"N Terminus Recall: {metrics.recall_score(n_targets_concat, n_preds_concat > 0.5)}\")"
   ]
  },
  {
   "cell_type": "code",
   "execution_count": 70,
   "metadata": {},
   "outputs": [
    {
     "name": "stdout",
     "output_type": "stream",
     "text": [
      "C Terminus F1: 0.011321373878801137\n",
      "N Terminus F1: 0.053231657658991634\n"
     ]
    }
   ],
   "source": [
    "print(f\"C Terminus F1: {metrics.f1_score(c_targets_concat, c_preds_concat > 0.5)}\")\n",
    "print(f\"N Terminus F1: {metrics.f1_score(n_targets_concat, n_preds_concat > 0.5)}\")"
   ]
  },
  {
   "cell_type": "code",
   "execution_count": 71,
   "metadata": {},
   "outputs": [
    {
     "name": "stdout",
     "output_type": "stream",
     "text": [
      "Protein 0\n",
      "Positive N preds: [ 1 28 75 86]\n",
      "Positive N targets: [16 51]\n",
      "\n",
      "Positive C preds: [ 8 18 25 28 51 59 63 74 80 89 97]\n",
      "Positive C targets: [24 61 62]\n",
      "\n",
      "Protein 1\n",
      "Positive N preds: [ 10  14  51  60  74  79  90 105 129]\n",
      "Positive N targets: [ 28 140]\n",
      "\n",
      "Positive C preds: [ 15  21  28  38  47  52  60  67  74  82  88 103 111 117 128 130 138 145\n",
      " 150]\n",
      "Positive C targets: [ 36 148 149]\n",
      "\n",
      "Protein 2\n",
      "Positive N preds: [  5  15  41  70 158 172 195 216 230 245 263 268 289 309 349 403 407 412\n",
      " 415 433 447 458 465 478 485 500 518 534 538 540 560 575]\n",
      "Positive N targets: [ 73  91 102 107 309]\n",
      "\n",
      "Positive C preds: [  2  11  25  58  70  81  92 102 112 121 142 152 177 184 191 203 248 260\n",
      " 281 284 289 297 311 338 362 372 379 388 391 415 426 432 445 450 460 466\n",
      " 476 488 503 527 537 573 584]\n",
      "Positive C targets: [ 81  99 111 115 319]\n",
      "\n",
      "Protein 3\n",
      "Positive N preds: [ 20  23  46  74  87 103 119 135 151 201 218 223 250]\n",
      "Positive N targets: [ 64 218 223 224]\n",
      "\n",
      "Positive C preds: [  2  20  34  40  51  63  73  88 104 120 136 152 170 193 198 215 232 246\n",
      " 257]\n",
      "Positive C targets: [ 72 231 232]\n",
      "\n",
      "Protein 4\n",
      "Positive N preds: [12 17 21 29 40]\n",
      "Positive N targets: [21 37 38 40]\n",
      "\n",
      "Positive C preds: [20 24 49 61 68 74]\n",
      "Positive C targets: [29 30 31 45 48]\n",
      "\n",
      "Protein 5\n",
      "Positive N preds: [  0  19  32  35  36  48  57  60  62  65  82  87 101 109 136 141 148 152\n",
      " 154 158 182 184]\n",
      "Positive N targets: [106 109 156]\n",
      "\n",
      "Positive C preds: [  3  47  94 100 112 118 134 151 163 165 181 185]\n",
      "Positive C targets: [117 164]\n",
      "\n",
      "Protein 6\n",
      "Positive N preds: [  2  14  40  44  58  71 110 112 116]\n",
      "Positive N targets: [44 58 78 79 88]\n",
      "\n",
      "Positive C preds: [  5  11  17  34  43  47  53  77  81  89  98 113 125]\n",
      "Positive C targets: [53 54 67 87 88 97]\n",
      "\n",
      "Protein 7\n",
      "Positive N preds: [ 41  45  56  97 115 120 132 148 155 161 174 192 196 208 216 302 347 348\n",
      " 360 382 397 453 475 495 510 521 533 542 558 571 580 585 604 630 640 646\n",
      " 682 690]\n",
      "Positive N targets: [331 407 408]\n",
      "\n",
      "Positive C preds: [ 13  17  36  45 100 106 128 171 201 228 232 240 266 270 279 282 295 303\n",
      " 314 317 334 340 350 355 365 370 405 432 440 448 452 463 470 478 480 487\n",
      " 492 502 509 513 520 542 550 555 566 578 588 602 618 629 647 657 659 665\n",
      " 676 683 688 689]\n",
      "Positive C targets: [339 415]\n",
      "\n",
      "Protein 8\n",
      "Positive N preds: [ 13  33 100 109 110 116 123 139 147 171 219 236 256 260 271 290 312 322\n",
      " 327 359 366 376 393 412 429 456 469 485 488]\n",
      "Positive N targets: [ 41  78 106 123 184 214 233]\n",
      "\n",
      "Positive C preds: [  1   8  42  49  50  64  80  81  87  96 103 125 132 140 147 159 163 174\n",
      " 179 198 207 224 230 233 242 246 250 259 263 280 291 292 296 303 307 317\n",
      " 325 329 336 343 347 366 379 391 411 428 436 445 465 469 476 508 512]\n",
      "Positive C targets: [ 49  86 117 131 201 223 241]\n",
      "\n",
      "Protein 9\n",
      "Positive N preds: [ 12  17  27  41 110 116 126 132 134 166 187 215]\n",
      "Positive N targets: [ 34 149 201]\n",
      "\n",
      "Positive C preds: [ 11  31  65  72  79 102 111 117 124 135 142 178 179 199 210 218]\n",
      "Positive C targets: [ 43 157 209]\n",
      "\n"
     ]
    }
   ],
   "source": [
    "for i in range(10):\n",
    "    pos_n_preds_idx = np.where(n_preds[i] > 0.5)[0]\n",
    "    pos_c_preds_idx = np.where(c_preds[i] > 0.5)[0]\n",
    "    pos_n_targets_idx = np.where(n_targets[i])[0]\n",
    "    pos_c_targets_idx = np.where(c_targets[i])[0]\n",
    "\n",
    "    print(f\"Protein {i}\")\n",
    "    print(f\"Positive N preds: {pos_n_preds_idx}\")\n",
    "    print(f\"Positive N targets: {pos_n_targets_idx}\")\n",
    "    print()\n",
    "    print(f\"Positive C preds: {pos_c_preds_idx}\")\n",
    "    print(f\"Positive C targets: {pos_c_targets_idx}\")\n",
    "    print()"
   ]
  },
  {
   "cell_type": "code",
   "execution_count": null,
   "metadata": {},
   "outputs": [],
   "source": []
  }
 ],
 "metadata": {
  "kernelspec": {
   "display_name": "cleavage_benchmark",
   "language": "python",
   "name": "python3"
  },
  "language_info": {
   "codemirror_mode": {
    "name": "ipython",
    "version": 3
   },
   "file_extension": ".py",
   "mimetype": "text/x-python",
   "name": "python",
   "nbconvert_exporter": "python",
   "pygments_lexer": "ipython3",
   "version": "3.10.8"
  }
 },
 "nbformat": 4,
 "nbformat_minor": 2
}
