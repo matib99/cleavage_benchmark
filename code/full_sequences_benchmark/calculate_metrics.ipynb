{
 "cells": [
  {
   "cell_type": "code",
   "execution_count": 59,
   "metadata": {},
   "outputs": [],
   "source": [
    "import numpy as np\n",
    "import pandas as pd\n",
    "from ast import literal_eval"
   ]
  },
  {
   "cell_type": "code",
   "execution_count": 60,
   "metadata": {},
   "outputs": [],
   "source": [
    "# dataset_path = '../../data/benchmark/lt2_windows__cvs_gt2.csv'\n",
    "dataset_path = '../../data/benchmark/multiple_windows.csv'\n",
    "\n",
    "n_preds_path = '../../data/benchmark/preds/n_bilstm_mw_.npy'\n",
    "c_preds_path = '../../data/benchmark/preds/c_bilstm_mw.npy'"
   ]
  },
  {
   "cell_type": "code",
   "execution_count": 61,
   "metadata": {},
   "outputs": [
    {
     "data": {
      "text/html": [
       "<div>\n",
       "<style scoped>\n",
       "    .dataframe tbody tr th:only-of-type {\n",
       "        vertical-align: middle;\n",
       "    }\n",
       "\n",
       "    .dataframe tbody tr th {\n",
       "        vertical-align: top;\n",
       "    }\n",
       "\n",
       "    .dataframe thead th {\n",
       "        text-align: right;\n",
       "    }\n",
       "</style>\n",
       "<table border=\"1\" class=\"dataframe\">\n",
       "  <thead>\n",
       "    <tr style=\"text-align: right;\">\n",
       "      <th></th>\n",
       "      <th>protein</th>\n",
       "      <th>cleavages</th>\n",
       "    </tr>\n",
       "  </thead>\n",
       "  <tbody>\n",
       "    <tr>\n",
       "      <th>0</th>\n",
       "      <td>AAADSAQWLSVKEETIFLHDGLIRVTDLAELPSEILGAPEAADTDL...</td>\n",
       "      <td>[(52, 63), (17, 25), (52, 62)]</td>\n",
       "    </tr>\n",
       "    <tr>\n",
       "      <th>1</th>\n",
       "      <td>ACAWLEAQEEEEVGFPVRPQVPLRPMTYKAAVDLSHFLKEKGGLEG...</td>\n",
       "      <td>[(29, 37), (141, 150), (141, 149)]</td>\n",
       "    </tr>\n",
       "    <tr>\n",
       "      <th>2</th>\n",
       "      <td>AFAQRALSDSLSRRLRRHVPTHQSRRRSLGHLSPTARRACEDAIRC...</td>\n",
       "      <td>[(108, 116), (92, 100), (103, 112), (74, 82), ...</td>\n",
       "    </tr>\n",
       "    <tr>\n",
       "      <th>3</th>\n",
       "      <td>AWRRRRSGTSGKATWWCSGLRRASPTPSRRVQSWATAVMWKPSPSS...</td>\n",
       "      <td>[(224, 232), (225, 233), (219, 232), (65, 73)]</td>\n",
       "    </tr>\n",
       "    <tr>\n",
       "      <th>4</th>\n",
       "      <td>DHVASCGVNLYQFYGPSGQFTHEFDGDEQFYVDLEKKETAWRWPEF...</td>\n",
       "      <td>[(38, 46), (22, 31), (22, 32), (41, 49), (22, ...</td>\n",
       "    </tr>\n",
       "  </tbody>\n",
       "</table>\n",
       "</div>"
      ],
      "text/plain": [
       "                                             protein  \\\n",
       "0  AAADSAQWLSVKEETIFLHDGLIRVTDLAELPSEILGAPEAADTDL...   \n",
       "1  ACAWLEAQEEEEVGFPVRPQVPLRPMTYKAAVDLSHFLKEKGGLEG...   \n",
       "2  AFAQRALSDSLSRRLRRHVPTHQSRRRSLGHLSPTARRACEDAIRC...   \n",
       "3  AWRRRRSGTSGKATWWCSGLRRASPTPSRRVQSWATAVMWKPSPSS...   \n",
       "4  DHVASCGVNLYQFYGPSGQFTHEFDGDEQFYVDLEKKETAWRWPEF...   \n",
       "\n",
       "                                           cleavages  \n",
       "0                     [(52, 63), (17, 25), (52, 62)]  \n",
       "1                 [(29, 37), (141, 150), (141, 149)]  \n",
       "2  [(108, 116), (92, 100), (103, 112), (74, 82), ...  \n",
       "3     [(224, 232), (225, 233), (219, 232), (65, 73)]  \n",
       "4  [(38, 46), (22, 31), (22, 32), (41, 49), (22, ...  "
      ]
     },
     "execution_count": 61,
     "metadata": {},
     "output_type": "execute_result"
    }
   ],
   "source": [
    "data_df = pd.read_csv(dataset_path)\n",
    "data_df.head()"
   ]
  },
  {
   "cell_type": "code",
   "execution_count": 62,
   "metadata": {},
   "outputs": [
    {
     "data": {
      "text/plain": [
       "((867,), (867,))"
      ]
     },
     "execution_count": 62,
     "metadata": {},
     "output_type": "execute_result"
    }
   ],
   "source": [
    "n_preds = np.load(n_preds_path, allow_pickle=True)\n",
    "c_preds = np.load(c_preds_path, allow_pickle=True)\n",
    "\n",
    "n_preds.shape, c_preds.shape"
   ]
  },
  {
   "cell_type": "code",
   "execution_count": 63,
   "metadata": {},
   "outputs": [],
   "source": [
    "cleavages = data_df['cleavages'].apply(literal_eval).values\n",
    "seq_lens = data_df['protein'].apply(len).values"
   ]
  },
  {
   "cell_type": "code",
   "execution_count": 64,
   "metadata": {},
   "outputs": [],
   "source": [
    "n_targets = [np.zeros(seq_len + 1) for seq_len in seq_lens]\n",
    "c_targets = [np.zeros(seq_len + 1) for seq_len in seq_lens]\n",
    "\n",
    "for i, cleavage in enumerate(cleavages):\n",
    "    for n, c in cleavage:\n",
    "        n_targets[i][n - 1] = 1\n",
    "        c_targets[i][c - 1] = 1"
   ]
  },
  {
   "cell_type": "code",
   "execution_count": null,
   "metadata": {},
   "outputs": [],
   "source": []
  },
  {
   "cell_type": "code",
   "execution_count": 65,
   "metadata": {},
   "outputs": [],
   "source": [
    "n_preds = [pred > 0 for pred in n_preds]\n",
    "c_preds = [pred > 0 for pred in c_preds]"
   ]
  },
  {
   "cell_type": "code",
   "execution_count": null,
   "metadata": {},
   "outputs": [],
   "source": []
  },
  {
   "cell_type": "code",
   "execution_count": 66,
   "metadata": {},
   "outputs": [
    {
     "data": {
      "text/plain": [
       "(array([False,  True, False, False, False, False, False, False, False,\n",
       "        False, False, False, False, False, False, False, False, False,\n",
       "        False, False, False, False, False, False, False, False, False,\n",
       "        False,  True, False, False, False, False, False, False, False,\n",
       "        False, False, False, False, False, False, False, False, False,\n",
       "        False, False, False, False, False, False, False, False, False,\n",
       "        False, False, False, False, False, False, False, False, False,\n",
       "        False, False, False, False, False, False, False, False, False,\n",
       "        False, False, False,  True, False, False, False, False, False,\n",
       "        False, False, False, False, False,  True, False, False, False,\n",
       "        False, False, False, False, False, False, False, False, False,\n",
       "        False, False, False, False, False, False, False, False, False,\n",
       "        False, False]),\n",
       " array([0., 0., 0., 0., 0., 0., 0., 0., 0., 0., 0., 0., 0., 0., 0., 0., 1.,\n",
       "        0., 0., 0., 0., 0., 0., 0., 0., 0., 0., 0., 0., 0., 0., 0., 0., 0.,\n",
       "        0., 0., 0., 0., 0., 0., 0., 0., 0., 0., 0., 0., 0., 0., 0., 0., 0.,\n",
       "        1., 0., 0., 0., 0., 0., 0., 0., 0., 0., 0., 0., 0., 0., 0., 0., 0.,\n",
       "        0., 0., 0., 0., 0., 0., 0., 0., 0., 0., 0., 0., 0., 0., 0., 0., 0.,\n",
       "        0., 0., 0., 0., 0., 0., 0., 0., 0., 0., 0., 0., 0., 0., 0., 0., 0.,\n",
       "        0., 0., 0., 0., 0., 0., 0., 0.]))"
      ]
     },
     "execution_count": 66,
     "metadata": {},
     "output_type": "execute_result"
    }
   ],
   "source": [
    "n_preds[0], n_targets[0]"
   ]
  },
  {
   "cell_type": "code",
   "execution_count": 67,
   "metadata": {},
   "outputs": [
    {
     "data": {
      "text/plain": [
       "array([ 0.,  1.,  0.,  0.,  0.,  0.,  0.,  0.,  0.,  0.,  0.,  0.,  0.,\n",
       "        0.,  0.,  0., -1.,  0.,  0.,  0.,  0.,  0.,  0.,  0.,  0.,  0.,\n",
       "        0.,  0.,  1.,  0.,  0.,  0.,  0.,  0.,  0.,  0.,  0.,  0.,  0.,\n",
       "        0.,  0.,  0.,  0.,  0.,  0.,  0.,  0.,  0.,  0.,  0.,  0., -1.,\n",
       "        0.,  0.,  0.,  0.,  0.,  0.,  0.,  0.,  0.,  0.,  0.,  0.,  0.,\n",
       "        0.,  0.,  0.,  0.,  0.,  0.,  0.,  0.,  0.,  0.,  1.,  0.,  0.,\n",
       "        0.,  0.,  0.,  0.,  0.,  0.,  0.,  0.,  1.,  0.,  0.,  0.,  0.,\n",
       "        0.,  0.,  0.,  0.,  0.,  0.,  0.,  0.,  0.,  0.,  0.,  0.,  0.,\n",
       "        0.,  0.,  0.,  0.,  0.,  0.])"
      ]
     },
     "execution_count": 67,
     "metadata": {},
     "output_type": "execute_result"
    }
   ],
   "source": [
    "n_preds[0] - n_targets[0]"
   ]
  },
  {
   "cell_type": "code",
   "execution_count": 68,
   "metadata": {},
   "outputs": [
    {
     "data": {
      "text/plain": [
       "((397783,), (397783,), (397783,), (397783,))"
      ]
     },
     "execution_count": 68,
     "metadata": {},
     "output_type": "execute_result"
    }
   ],
   "source": [
    "c_preds_concat = np.concatenate(c_preds)\n",
    "n_preds_concat = np.concatenate(n_preds)\n",
    "\n",
    "c_targets_concat = np.concatenate(c_targets)\n",
    "n_targets_concat = np.concatenate(n_targets)\n",
    "\n",
    "c_preds_concat.shape, n_preds_concat.shape, c_targets_concat.shape, n_targets_concat.shape"
   ]
  },
  {
   "cell_type": "code",
   "execution_count": 69,
   "metadata": {},
   "outputs": [],
   "source": [
    "from sklearn import metrics"
   ]
  },
  {
   "cell_type": "code",
   "execution_count": 70,
   "metadata": {},
   "outputs": [
    {
     "name": "stdout",
     "output_type": "stream",
     "text": [
      "C - Terminus ROC AUC: 0.48646361675011546\n",
      "N - Terminus ROC AUC: 0.5681448335807696\n"
     ]
    }
   ],
   "source": [
    "fpr_c, tpr_c, thresholds_c = metrics.roc_curve(c_targets_concat, c_preds_concat)\n",
    "fpr_n, tpr_n, thresholds_n = metrics.roc_curve(n_targets_concat, n_preds_concat)\n",
    "\n",
    "roc_auc_c = metrics.auc(fpr_c, tpr_c)\n",
    "roc_auc_n = metrics.auc(fpr_n, tpr_n)\n",
    "\n",
    "print(f\"C - Terminus ROC AUC: {roc_auc_c}\")\n",
    "print(f\"N - Terminus ROC AUC: {roc_auc_n}\")"
   ]
  },
  {
   "cell_type": "code",
   "execution_count": 71,
   "metadata": {},
   "outputs": [
    {
     "name": "stdout",
     "output_type": "stream",
     "text": [
      "C Terminus Precission: 0.006300027391423441\n",
      "N Terminus Precission: 0.030858369098712448\n"
     ]
    }
   ],
   "source": [
    "print(f\"C Terminus Precission: {metrics.precision_score(c_targets_concat, c_preds_concat)}\")\n",
    "print(f\"N Terminus Precission: {metrics.precision_score(n_targets_concat, n_preds_concat)}\")"
   ]
  },
  {
   "cell_type": "code",
   "execution_count": 72,
   "metadata": {},
   "outputs": [
    {
     "name": "stdout",
     "output_type": "stream",
     "text": [
      "C Terminus Recall: 0.05578011317704123\n",
      "N Terminus Recall: 0.19359181475498116\n"
     ]
    }
   ],
   "source": [
    "print(f\"C Terminus Recall: {metrics.recall_score(c_targets_concat, c_preds_concat)}\")\n",
    "print(f\"N Terminus Recall: {metrics.recall_score(n_targets_concat, n_preds_concat)}\")"
   ]
  },
  {
   "cell_type": "code",
   "execution_count": 73,
   "metadata": {},
   "outputs": [
    {
     "name": "stdout",
     "output_type": "stream",
     "text": [
      "C Terminus F1: 0.011321373878801137\n",
      "N Terminus F1: 0.053231657658991634\n"
     ]
    }
   ],
   "source": [
    "print(f\"C Terminus F1: {metrics.f1_score(c_targets_concat, c_preds_concat)}\")\n",
    "print(f\"N Terminus F1: {metrics.f1_score(n_targets_concat, n_preds_concat)}\")"
   ]
  },
  {
   "cell_type": "code",
   "execution_count": 74,
   "metadata": {},
   "outputs": [
    {
     "name": "stdout",
     "output_type": "stream",
     "text": [
      "Protein 0\n",
      "Positive N preds: [ 1 28 75 86]\n",
      "Positive N targets: [16 51]\n",
      "\n",
      "Positive C preds: [ 8 18 25 28 51 59 63 74 80 89 97]\n",
      "Positive C targets: [24 61 62]\n",
      "\n",
      "Protein 1\n",
      "Positive N preds: [ 10  14  51  60  74  79  90 105 129]\n",
      "Positive N targets: [ 28 140]\n",
      "\n",
      "Positive C preds: [ 15  21  28  38  47  52  60  67  74  82  88 103 111 117 128 130 138 145\n",
      " 150]\n",
      "Positive C targets: [ 36 148 149]\n",
      "\n",
      "Protein 2\n",
      "Positive N preds: [  5  15  41  70 158 172 195 216 230 245 263 268 289 309 349 403 407 412\n",
      " 415 433 447 458 465 478 485 500 518 534 538 540 560 575]\n",
      "Positive N targets: [ 73  91 102 107 309]\n",
      "\n",
      "Positive C preds: [  2  11  25  58  70  81  92 102 112 121 142 152 177 184 191 203 248 260\n",
      " 281 284 289 297 311 338 362 372 379 388 391 415 426 432 445 450 460 466\n",
      " 476 488 503 527 537 573 584]\n",
      "Positive C targets: [ 81  99 111 115 319]\n",
      "\n",
      "Protein 3\n",
      "Positive N preds: [ 20  23  46  74  87 103 119 135 151 201 218 223 250]\n",
      "Positive N targets: [ 64 218 223 224]\n",
      "\n",
      "Positive C preds: [  2  20  34  40  51  63  73  88 104 120 136 152 170 193 198 215 232 246\n",
      " 257]\n",
      "Positive C targets: [ 72 231 232]\n",
      "\n",
      "Protein 4\n",
      "Positive N preds: [12 17 21 29 40]\n",
      "Positive N targets: [21 37 38 40]\n",
      "\n",
      "Positive C preds: [20 24 49 61 68 74]\n",
      "Positive C targets: [29 30 31 45 48]\n",
      "\n",
      "Protein 5\n",
      "Positive N preds: [  0  19  32  35  36  48  57  60  62  65  82  87 101 109 136 141 148 152\n",
      " 154 158 182 184]\n",
      "Positive N targets: [106 109 156]\n",
      "\n",
      "Positive C preds: [  3  47  94 100 112 118 134 151 163 165 181 185]\n",
      "Positive C targets: [117 164]\n",
      "\n",
      "Protein 6\n",
      "Positive N preds: [  2  14  40  44  58  71 110 112 116]\n",
      "Positive N targets: [44 58 78 79 88]\n",
      "\n",
      "Positive C preds: [  5  11  17  34  43  47  53  77  81  89  98 113 125]\n",
      "Positive C targets: [53 54 67 87 88 97]\n",
      "\n",
      "Protein 7\n",
      "Positive N preds: [ 41  45  56  97 115 120 132 148 155 161 174 192 196 208 216 302 347 348\n",
      " 360 382 397 453 475 495 510 521 533 542 558 571 580 585 604 630 640 646\n",
      " 682 690]\n",
      "Positive N targets: [331 407 408]\n",
      "\n",
      "Positive C preds: [ 13  17  36  45 100 106 128 171 201 228 232 240 266 270 279 282 295 303\n",
      " 314 317 334 340 350 355 365 370 405 432 440 448 452 463 470 478 480 487\n",
      " 492 502 509 513 520 542 550 555 566 578 588 602 618 629 647 657 659 665\n",
      " 676 683 688 689]\n",
      "Positive C targets: [339 415]\n",
      "\n",
      "Protein 8\n",
      "Positive N preds: [ 13  33 100 109 110 116 123 139 147 171 219 236 256 260 271 290 312 322\n",
      " 327 359 366 376 393 412 429 456 469 485 488]\n",
      "Positive N targets: [ 41  78 106 123 184 214 233]\n",
      "\n",
      "Positive C preds: [  1   8  42  49  50  64  80  81  87  96 103 125 132 140 147 159 163 174\n",
      " 179 198 207 224 230 233 242 246 250 259 263 280 291 292 296 303 307 317\n",
      " 325 329 336 343 347 366 379 391 411 428 436 445 465 469 476 508 512]\n",
      "Positive C targets: [ 49  86 117 131 201 223 241]\n",
      "\n",
      "Protein 9\n",
      "Positive N preds: [ 12  17  27  41 110 116 126 132 134 166 187 215]\n",
      "Positive N targets: [ 34 149 201]\n",
      "\n",
      "Positive C preds: [ 11  31  65  72  79 102 111 117 124 135 142 178 179 199 210 218]\n",
      "Positive C targets: [ 43 157 209]\n",
      "\n"
     ]
    }
   ],
   "source": [
    "for i in range(10):\n",
    "    pos_n_preds_idx = np.where(n_preds[i])[0]\n",
    "    pos_c_preds_idx = np.where(c_preds[i])[0]\n",
    "    pos_n_targets_idx = np.where(n_targets[i])[0]\n",
    "    pos_c_targets_idx = np.where(c_targets[i])[0]\n",
    "\n",
    "    print(f\"Protein {i}\")\n",
    "    print(f\"Positive N preds: {pos_n_preds_idx}\")\n",
    "    print(f\"Positive N targets: {pos_n_targets_idx}\")\n",
    "    print()\n",
    "    print(f\"Positive C preds: {pos_c_preds_idx}\")\n",
    "    print(f\"Positive C targets: {pos_c_targets_idx}\")\n",
    "    print()"
   ]
  },
  {
   "cell_type": "code",
   "execution_count": null,
   "metadata": {},
   "outputs": [],
   "source": []
  }
 ],
 "metadata": {
  "kernelspec": {
   "display_name": "cleavage_benchmark",
   "language": "python",
   "name": "python3"
  },
  "language_info": {
   "codemirror_mode": {
    "name": "ipython",
    "version": 3
   },
   "file_extension": ".py",
   "mimetype": "text/x-python",
   "name": "python",
   "nbconvert_exporter": "python",
   "pygments_lexer": "ipython3",
   "version": "3.10.8"
  }
 },
 "nbformat": 4,
 "nbformat_minor": 2
}
