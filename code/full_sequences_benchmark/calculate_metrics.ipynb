{
 "cells": [
  {
   "cell_type": "code",
   "execution_count": 1,
   "metadata": {},
   "outputs": [],
   "source": [
    "import numpy as np\n",
    "import pandas as pd\n",
    "from ast import literal_eval"
   ]
  },
  {
   "cell_type": "code",
   "execution_count": 24,
   "metadata": {},
   "outputs": [],
   "source": [
    "dataset_path = '../../data/benchmark/lt2_windows__cvs_gt2.csv'\n",
    "# dataset_path = '../../data/benchmark/multiple_windows.csv'\n",
    "\n",
    "\n",
    "n_preds_path = '../../data/benchmark/preds/n_esm2.npy'\n",
    "c_preds_path = '../../data/benchmark/preds/c_esm2.npy'\n",
    "# n_preds_path = '../../data/benchmark/preds/n_bilstm_att.npy'\n",
    "# c_preds_path = '../../data/benchmark/preds/c_bilstm_att.npy'\n",
    "# n_preds_path = '../../data/benchmark/preds2/n_bilstm.npy'\n",
    "# c_preds_path = '../../data/benchmark/preds2/c_bilstm.npy'\n",
    "# n_preds_path = '../../data/benchmark/preds/n_bilstm_mw.npy'\n",
    "# c_preds_path = '../../data/benchmark/preds/c_bilstm_mw.npy'"
   ]
  },
  {
   "cell_type": "code",
   "execution_count": 25,
   "metadata": {},
   "outputs": [
    {
     "data": {
      "text/html": [
       "<div>\n",
       "<style scoped>\n",
       "    .dataframe tbody tr th:only-of-type {\n",
       "        vertical-align: middle;\n",
       "    }\n",
       "\n",
       "    .dataframe tbody tr th {\n",
       "        vertical-align: top;\n",
       "    }\n",
       "\n",
       "    .dataframe thead th {\n",
       "        text-align: right;\n",
       "    }\n",
       "</style>\n",
       "<table border=\"1\" class=\"dataframe\">\n",
       "  <thead>\n",
       "    <tr style=\"text-align: right;\">\n",
       "      <th></th>\n",
       "      <th>protein</th>\n",
       "      <th>cleavages</th>\n",
       "    </tr>\n",
       "  </thead>\n",
       "  <tbody>\n",
       "    <tr>\n",
       "      <th>0</th>\n",
       "      <td>AAADSAQWLSVKEETIFLHDGLIRVTDLAELPSEILGAPEAADTDL...</td>\n",
       "      <td>[(52, 63), (17, 25), (52, 62)]</td>\n",
       "    </tr>\n",
       "    <tr>\n",
       "      <th>1</th>\n",
       "      <td>ACAWLEAQEEEEVGFPVRPQVPLRPMTYKAAVDLSHFLKEKGGLEG...</td>\n",
       "      <td>[(29, 37), (141, 150), (141, 149)]</td>\n",
       "    </tr>\n",
       "    <tr>\n",
       "      <th>2</th>\n",
       "      <td>AFAQRALSDSLSRRLRRHVPTHQSRRRSLGHLSPTARRACEDAIRC...</td>\n",
       "      <td>[(108, 116), (92, 100), (103, 112), (74, 82), ...</td>\n",
       "    </tr>\n",
       "    <tr>\n",
       "      <th>3</th>\n",
       "      <td>AWRRRRSGTSGKATWWCSGLRRASPTPSRRVQSWATAVMWKPSPSS...</td>\n",
       "      <td>[(224, 232), (225, 233), (219, 232), (65, 73)]</td>\n",
       "    </tr>\n",
       "    <tr>\n",
       "      <th>4</th>\n",
       "      <td>DHVASCGVNLYQFYGPSGQFTHEFDGDEQFYVDLEKKETAWRWPEF...</td>\n",
       "      <td>[(38, 46), (22, 31), (22, 32), (41, 49), (22, ...</td>\n",
       "    </tr>\n",
       "  </tbody>\n",
       "</table>\n",
       "</div>"
      ],
      "text/plain": [
       "                                             protein  \\\n",
       "0  AAADSAQWLSVKEETIFLHDGLIRVTDLAELPSEILGAPEAADTDL...   \n",
       "1  ACAWLEAQEEEEVGFPVRPQVPLRPMTYKAAVDLSHFLKEKGGLEG...   \n",
       "2  AFAQRALSDSLSRRLRRHVPTHQSRRRSLGHLSPTARRACEDAIRC...   \n",
       "3  AWRRRRSGTSGKATWWCSGLRRASPTPSRRVQSWATAVMWKPSPSS...   \n",
       "4  DHVASCGVNLYQFYGPSGQFTHEFDGDEQFYVDLEKKETAWRWPEF...   \n",
       "\n",
       "                                           cleavages  \n",
       "0                     [(52, 63), (17, 25), (52, 62)]  \n",
       "1                 [(29, 37), (141, 150), (141, 149)]  \n",
       "2  [(108, 116), (92, 100), (103, 112), (74, 82), ...  \n",
       "3     [(224, 232), (225, 233), (219, 232), (65, 73)]  \n",
       "4  [(38, 46), (22, 31), (22, 32), (41, 49), (22, ...  "
      ]
     },
     "execution_count": 25,
     "metadata": {},
     "output_type": "execute_result"
    }
   ],
   "source": [
    "data_df = pd.read_csv(dataset_path)\n",
    "data_df.head()"
   ]
  },
  {
   "cell_type": "code",
   "execution_count": 26,
   "metadata": {},
   "outputs": [
    {
     "data": {
      "text/plain": [
       "((867,), (867,))"
      ]
     },
     "execution_count": 26,
     "metadata": {},
     "output_type": "execute_result"
    }
   ],
   "source": [
    "c_preds = np.load(c_preds_path, allow_pickle=True)\n",
    "n_preds = np.load(n_preds_path, allow_pickle=True)\n",
    "\n",
    "n_preds.shape, c_preds.shape"
   ]
  },
  {
   "cell_type": "code",
   "execution_count": 27,
   "metadata": {},
   "outputs": [],
   "source": [
    "cleavages = data_df['cleavages'].apply(literal_eval).values\n",
    "seq_lens = data_df['protein'].apply(len).values"
   ]
  },
  {
   "cell_type": "code",
   "execution_count": null,
   "metadata": {},
   "outputs": [],
   "source": []
  },
  {
   "cell_type": "code",
   "execution_count": 28,
   "metadata": {},
   "outputs": [],
   "source": [
    "n_targets = [np.zeros(seq_len + 1) for seq_len in seq_lens]\n",
    "c_targets = [np.zeros(seq_len + 1) for seq_len in seq_lens]\n",
    "\n",
    "for i, cleavage in enumerate(cleavages):\n",
    "    for n, c in cleavage:\n",
    "        n_targets[i][n - 1] = 1\n",
    "        c_targets[i][c - 1] = 1"
   ]
  },
  {
   "cell_type": "code",
   "execution_count": 29,
   "metadata": {},
   "outputs": [
    {
     "data": {
      "text/plain": [
       "array([-1.5493163 , -1.477784  , -0.6431524 , -1.3312005 , -0.31533682,\n",
       "       -0.59963495, -1.1217619 , -0.05622941,  0.00632592, -0.83161736,\n",
       "        0.31935447, -1.0659126 , -0.5861283 , -1.4277213 ,  0.20779882,\n",
       "       -1.3989862 , -1.4045691 , -0.8790149 , -1.3232083 , -1.1423447 ,\n",
       "       -0.15992059, -1.2301158 , -1.1734009 , -0.2195705 , -1.6082132 ,\n",
       "       -0.54565763, -0.8597211 , -1.6202878 , -0.3930518 , -0.01408741,\n",
       "       -0.34304947, -0.92231363, -1.3887542 , -0.8262506 , -0.33348638,\n",
       "       -1.0136576 ,  0.08828376, -1.4210712 , -0.04439436, -1.618097  ,\n",
       "       -1.1323441 , -1.0056063 , -0.32333136, -0.8596663 , -1.4822098 ,\n",
       "       -0.90499717, -0.8370078 , -0.1336657 , -1.0613092 , -1.2241453 ,\n",
       "       -0.9935928 ,  1.1524882 , -1.1158568 , -1.2499862 , -0.8290754 ,\n",
       "       -0.21598546, -1.4967397 , -1.0162532 , -1.5972667 , -0.9724007 ,\n",
       "       -0.32270867, -0.6361343 , -0.37956482, -1.046321  , -1.2337267 ,\n",
       "       -0.76311237,  0.4928723 , -0.37259036, -1.5076097 , -1.6037141 ,\n",
       "       -0.8983031 , -1.0085639 , -0.7973142 , -0.48901826,  0.45153522,\n",
       "       -1.4574586 , -1.2774959 , -1.5943127 , -1.0962853 ,  0.47380418,\n",
       "       -0.9211902 , -0.36212528, -1.4844869 , -0.227708  , -1.3486855 ,\n",
       "       -1.1560639 , -1.3703029 , -1.1044184 , -1.2702302 , -1.3540523 ,\n",
       "        0.3777125 , -0.99696785,  0.06962891, -1.3631307 , -0.7125123 ,\n",
       "       -0.8114919 , -1.5667801 , -1.4013102 , -0.43117803, -0.9196206 ],\n",
       "      dtype=float32)"
      ]
     },
     "execution_count": 29,
     "metadata": {},
     "output_type": "execute_result"
    }
   ],
   "source": [
    "n_preds[1][:100]"
   ]
  },
  {
   "cell_type": "code",
   "execution_count": 30,
   "metadata": {},
   "outputs": [],
   "source": [
    "def sigmoid(x):\n",
    "    return 1 / (1 + np.exp(-x))"
   ]
  },
  {
   "cell_type": "code",
   "execution_count": 31,
   "metadata": {},
   "outputs": [],
   "source": [
    "n_preds = [sigmoid(pred) for pred in n_preds]\n",
    "c_preds = [sigmoid(pred) for pred in c_preds]"
   ]
  },
  {
   "cell_type": "code",
   "execution_count": null,
   "metadata": {},
   "outputs": [],
   "source": []
  },
  {
   "cell_type": "code",
   "execution_count": 32,
   "metadata": {},
   "outputs": [
    {
     "data": {
      "text/plain": [
       "(array([0.47291437, 0.57571363, 0.20895435, 0.27256435, 0.31234348,\n",
       "        0.49782002, 0.21308649, 0.22252758, 0.33195233, 0.43059996,\n",
       "        0.1858279 , 0.3521353 , 0.3376633 , 0.5065383 , 0.29327598,\n",
       "        0.2530607 , 0.4906245 , 0.33899587, 0.27961215, 0.22304684,\n",
       "        0.3563569 , 0.22074313, 0.42774245, 0.3917463 , 0.40381032,\n",
       "        0.2547266 , 0.26925185, 0.23390807, 0.6422233 , 0.32513678,\n",
       "        0.5538558 , 0.18562925, 0.32475355, 0.25410038, 0.29466   ,\n",
       "        0.2473898 , 0.3581459 , 0.6029191 , 0.2151792 , 0.38179174,\n",
       "        0.34068054, 0.20774594, 0.38017696, 0.30772215, 0.20103541,\n",
       "        0.38746017, 0.3203793 , 0.28755048, 0.31707647, 0.24807149,\n",
       "        0.34965956, 0.47624537, 0.3737139 , 0.19574408, 0.4458869 ,\n",
       "        0.21552825, 0.33451423, 0.29643092, 0.29898688, 0.3781772 ,\n",
       "        0.3605462 , 0.37214425, 0.19989909, 0.35577923, 0.42168745,\n",
       "        0.20249602, 0.15639712, 0.21377671, 0.44574136, 0.33836973,\n",
       "        0.19947584, 0.3817433 , 0.2718124 , 0.3790802 , 0.4252369 ,\n",
       "        0.64488655, 0.21573183, 0.37516782, 0.19624792, 0.5384092 ,\n",
       "        0.40757024, 0.20883167, 0.2703672 , 0.39312908, 0.24012579,\n",
       "        0.25119844, 0.5327241 , 0.18322909, 0.1870643 , 0.24243349,\n",
       "        0.3875542 , 0.35946256, 0.41966116, 0.2602157 , 0.3331263 ,\n",
       "        0.3374937 , 0.3352784 , 0.4398084 , 0.25805935, 0.29363695,\n",
       "        0.42686433, 0.24822827, 0.49510083, 0.32068816, 0.31481293,\n",
       "        0.21203658, 0.20882317, 0.37660646, 0.47904527, 0.28432292],\n",
       "       dtype=float32),\n",
       " array([0., 0., 0., 0., 0., 0., 0., 0., 0., 0., 0., 0., 0., 0., 0., 0., 1.,\n",
       "        0., 0., 0., 0., 0., 0., 0., 0., 0., 0., 0., 0., 0., 0., 0., 0., 0.,\n",
       "        0., 0., 0., 0., 0., 0., 0., 0., 0., 0., 0., 0., 0., 0., 0., 0., 0.,\n",
       "        1., 0., 0., 0., 0., 0., 0., 0., 0., 0., 0., 0., 0., 0., 0., 0., 0.,\n",
       "        0., 0., 0., 0., 0., 0., 0., 0., 0., 0., 0., 0., 0., 0., 0., 0., 0.,\n",
       "        0., 0., 0., 0., 0., 0., 0., 0., 0., 0., 0., 0., 0., 0., 0., 0., 0.,\n",
       "        0., 0., 0., 0., 0., 0., 0., 0.]))"
      ]
     },
     "execution_count": 32,
     "metadata": {},
     "output_type": "execute_result"
    }
   ],
   "source": [
    "n_preds[0], n_targets[0]"
   ]
  },
  {
   "cell_type": "code",
   "execution_count": 33,
   "metadata": {},
   "outputs": [
    {
     "data": {
      "text/plain": [
       "array([ 0.47291437,  0.57571363,  0.20895435,  0.27256435,  0.31234348,\n",
       "        0.49782002,  0.21308649,  0.22252758,  0.33195233,  0.43059996,\n",
       "        0.1858279 ,  0.3521353 ,  0.33766329,  0.50653827,  0.29327598,\n",
       "        0.2530607 , -0.50937551,  0.33899587,  0.27961215,  0.22304684,\n",
       "        0.35635689,  0.22074313,  0.42774245,  0.39174631,  0.40381032,\n",
       "        0.25472659,  0.26925185,  0.23390807,  0.6422233 ,  0.32513678,\n",
       "        0.55385578,  0.18562925,  0.32475355,  0.25410038,  0.29466   ,\n",
       "        0.24738979,  0.35814589,  0.6029191 ,  0.2151792 ,  0.38179174,\n",
       "        0.34068054,  0.20774594,  0.38017696,  0.30772215,  0.20103541,\n",
       "        0.38746017,  0.32037929,  0.28755048,  0.31707647,  0.24807149,\n",
       "        0.34965956, -0.52375463,  0.37371391,  0.19574408,  0.44588691,\n",
       "        0.21552825,  0.33451423,  0.29643092,  0.29898688,  0.3781772 ,\n",
       "        0.3605462 ,  0.37214425,  0.19989909,  0.35577923,  0.42168745,\n",
       "        0.20249602,  0.15639712,  0.21377671,  0.44574136,  0.33836973,\n",
       "        0.19947584,  0.38174331,  0.27181241,  0.37908021,  0.42523691,\n",
       "        0.64488655,  0.21573183,  0.37516782,  0.19624792,  0.53840917,\n",
       "        0.40757024,  0.20883167,  0.27036721,  0.39312908,  0.24012579,\n",
       "        0.25119844,  0.53272408,  0.18322909,  0.1870643 ,  0.24243349,\n",
       "        0.3875542 ,  0.35946256,  0.41966116,  0.2602157 ,  0.33312631,\n",
       "        0.33749369,  0.33527839,  0.4398084 ,  0.25805935,  0.29363695,\n",
       "        0.42686433,  0.24822827,  0.49510083,  0.32068816,  0.31481293,\n",
       "        0.21203658,  0.20882317,  0.37660646,  0.47904527,  0.28432292])"
      ]
     },
     "execution_count": 33,
     "metadata": {},
     "output_type": "execute_result"
    }
   ],
   "source": [
    "n_preds[0] - n_targets[0]"
   ]
  },
  {
   "cell_type": "code",
   "execution_count": 34,
   "metadata": {},
   "outputs": [
    {
     "data": {
      "text/plain": [
       "((397783,), (397783,), (397783,), (397783,))"
      ]
     },
     "execution_count": 34,
     "metadata": {},
     "output_type": "execute_result"
    }
   ],
   "source": [
    "c_preds_concat = np.concatenate(c_preds)\n",
    "n_preds_concat = np.concatenate(n_preds)\n",
    "\n",
    "c_targets_concat = np.concatenate(c_targets)\n",
    "n_targets_concat = np.concatenate(n_targets)\n",
    "\n",
    "c_preds_concat.shape, n_preds_concat.shape, c_targets_concat.shape, n_targets_concat.shape"
   ]
  },
  {
   "cell_type": "code",
   "execution_count": 35,
   "metadata": {},
   "outputs": [],
   "source": [
    "from sklearn import metrics"
   ]
  },
  {
   "cell_type": "code",
   "execution_count": 36,
   "metadata": {},
   "outputs": [
    {
     "name": "stdout",
     "output_type": "stream",
     "text": [
      "C - Terminus ROC AUC: 0.4697204954822001\n",
      "N - Terminus ROC AUC: 0.6721562688452857\n"
     ]
    }
   ],
   "source": [
    "fpr_c, tpr_c, thresholds_c = metrics.roc_curve(c_targets_concat, c_preds_concat)\n",
    "fpr_n, tpr_n, thresholds_n = metrics.roc_curve(n_targets_concat, n_preds_concat)\n",
    "\n",
    "roc_auc_c = metrics.auc(fpr_c, tpr_c)\n",
    "roc_auc_n = metrics.auc(fpr_n, tpr_n)\n",
    "\n",
    "print(f\"C - Terminus ROC AUC: {roc_auc_c}\")\n",
    "print(f\"N - Terminus ROC AUC: {roc_auc_n}\")"
   ]
  },
  {
   "cell_type": "code",
   "execution_count": 37,
   "metadata": {},
   "outputs": [],
   "source": [
    "import matplotlib.pyplot as plt"
   ]
  },
  {
   "cell_type": "code",
   "execution_count": 38,
   "metadata": {},
   "outputs": [
    {
     "data": {
      "image/png": "[encoded data removed]",
      "text/plain": [
       "<Figure size 1200x600 with 2 Axes>"
      ]
     },
     "metadata": {},
     "output_type": "display_data"
    }
   ],
   "source": [
    "# plot ROC curves for both models (on separate plots):\n",
    "\n",
    "fig, ax = plt.subplots(1, 2, figsize=(12, 6))\n",
    "ax[0].plot(fpr_c, tpr_c, label=f\"C - Terminus ROC AUC: {roc_auc_c}\")\n",
    "ax[0].plot([0, 1], [0, 1], 'k--')\n",
    "ax[0].set_xlabel('False Positive Rate')\n",
    "ax[0].set_ylabel('True Positive Rate')\n",
    "ax[0].set_title('C - Terminus ROC Curve')\n",
    "ax[0].legend()\n",
    "\n",
    "ax[1].plot(fpr_n, tpr_n, label=f\"N - Terminus ROC AUC: {roc_auc_n}\")\n",
    "ax[1].plot([0, 1], [0, 1], 'k--')\n",
    "ax[1].set_xlabel('False Positive Rate')\n",
    "ax[1].set_ylabel('True Positive Rate')\n",
    "ax[1].set_title('N - Terminus ROC Curve')\n",
    "ax[1].legend()\n",
    "\n",
    "plt.show()"
   ]
  },
  {
   "cell_type": "code",
   "execution_count": 53,
   "metadata": {},
   "outputs": [],
   "source": [
    "trh = 0.7"
   ]
  },
  {
   "cell_type": "code",
   "execution_count": 54,
   "metadata": {},
   "outputs": [
    {
     "name": "stdout",
     "output_type": "stream",
     "text": [
      "C Terminus Precission: 0.0054260279779567615\n",
      "N Terminus Precission: 0.04390360295872107\n"
     ]
    }
   ],
   "source": [
    "print(f\"C Terminus Precission: {metrics.precision_score(c_targets_concat, c_preds_concat > trh)}\")\n",
    "print(f\"N Terminus Precission: {metrics.precision_score(n_targets_concat, n_preds_concat > trh)}\")"
   ]
  },
  {
   "cell_type": "code",
   "execution_count": 55,
   "metadata": {},
   "outputs": [
    {
     "name": "stdout",
     "output_type": "stream",
     "text": [
      "C Terminus Recall: 0.017246025330099703\n",
      "N Terminus Recall: 0.04954227248249865\n"
     ]
    }
   ],
   "source": [
    "print(f\"C Terminus Recall: {metrics.recall_score(c_targets_concat, c_preds_concat > trh)}\")\n",
    "print(f\"N Terminus Recall: {metrics.recall_score(n_targets_concat, n_preds_concat > trh)}\")"
   ]
  },
  {
   "cell_type": "code",
   "execution_count": 56,
   "metadata": {},
   "outputs": [
    {
     "name": "stdout",
     "output_type": "stream",
     "text": [
      "C Terminus F1: 0.008254869082935637\n",
      "N Terminus F1: 0.0465528146742568\n"
     ]
    }
   ],
   "source": [
    "print(f\"C Terminus F1: {metrics.f1_score(c_targets_concat, c_preds_concat > trh)}\")\n",
    "print(f\"N Terminus F1: {metrics.f1_score(n_targets_concat, n_preds_concat > trh)}\")"
   ]
  },
  {
   "cell_type": "code",
   "execution_count": 57,
   "metadata": {},
   "outputs": [
    {
     "name": "stdout",
     "output_type": "stream",
     "text": [
      "Protein 0\n",
      "Positive N preds: []\n",
      "Positive N targets: [16 51]\n",
      "\n",
      "Positive C preds: [59 74]\n",
      "Positive C targets: [24 61 62]\n",
      "\n",
      "Protein 1\n",
      "Positive N preds: [51]\n",
      "Positive N targets: [ 28 140]\n",
      "\n",
      "Positive C preds: [ 28  67  82 117]\n",
      "Positive C targets: [ 36 148 149]\n",
      "\n",
      "Protein 2\n",
      "Positive N preds: [ 70 158 195 263 447 478 500 540]\n",
      "Positive N targets: [ 73  91 102 107 309]\n",
      "\n",
      "Positive C preds: [ 92 142 152 177 184 191 203 362 372 379 415 426 432 460 466 488 503 517\n",
      " 573]\n",
      "Positive C targets: [ 81  99 111 115 319]\n",
      "\n",
      "Protein 3\n",
      "Positive N preds: [ 40  87 103 119 135 151 218]\n",
      "Positive N targets: [ 64 218 223 224]\n",
      "\n",
      "Positive C preds: [ 15  34  51  73 198 232 257]\n",
      "Positive C targets: [ 72 231 232]\n",
      "\n",
      "Protein 4\n",
      "Positive N preds: [21]\n",
      "Positive N targets: [21 37 38 40]\n",
      "\n",
      "Positive C preds: [20 24 74]\n",
      "Positive C targets: [29 30 31 45 48]\n",
      "\n",
      "Protein 5\n",
      "Positive N preds: [  0  19  36  82 125 141 154]\n",
      "Positive N targets: [106 109 156]\n",
      "\n",
      "Positive C preds: [  3  47  80 100 118 134]\n",
      "Positive C targets: [117 164]\n",
      "\n",
      "Protein 6\n",
      "Positive N preds: [ 2 40 71]\n",
      "Positive N targets: [44 58 78 79 88]\n",
      "\n",
      "Positive C preds: [  5  17  34  43  47  77  81  98 113]\n",
      "Positive C targets: [53 54 67 87 88 97]\n",
      "\n",
      "Protein 7\n",
      "Positive N preds: [174 196 302 347 521 571 604]\n",
      "Positive N targets: [331 407 408]\n",
      "\n",
      "Positive C preds: [ 36 228 232 240 270 282 295 355 440 463 509 542 555 566 578 611 665 676]\n",
      "Positive C targets: [339 415]\n",
      "\n",
      "Protein 8\n",
      "Positive N preds: [100 123 171 256 260 312 473]\n",
      "Positive N targets: [ 41  78 106 123 184 214 233]\n",
      "\n",
      "Positive C preds: [ 42  64  87 174 179 233 242 250 259 303 317 411 428 476 508 512]\n",
      "Positive C targets: [ 49  86 117 131 201 223 241]\n",
      "\n",
      "Protein 9\n",
      "Positive N preds: [12]\n",
      "Positive N targets: [ 34 149 201]\n",
      "\n",
      "Positive C preds: [ 31  79 102 111 142 218]\n",
      "Positive C targets: [ 43 157 209]\n",
      "\n"
     ]
    }
   ],
   "source": [
    "for i in range(10):\n",
    "    pos_n_preds_idx = np.where(n_preds[i] > trh)[0]\n",
    "    pos_c_preds_idx = np.where(c_preds[i] > trh)[0]\n",
    "    pos_n_targets_idx = np.where(n_targets[i])[0]\n",
    "    pos_c_targets_idx = np.where(c_targets[i])[0]\n",
    "\n",
    "    print(f\"Protein {i}\")\n",
    "    print(f\"Positive N preds: {pos_n_preds_idx}\")\n",
    "    print(f\"Positive N targets: {pos_n_targets_idx}\")\n",
    "    print()\n",
    "    print(f\"Positive C preds: {pos_c_preds_idx}\")\n",
    "    print(f\"Positive C targets: {pos_c_targets_idx}\")\n",
    "    print()"
   ]
  },
  {
   "cell_type": "code",
   "execution_count": null,
   "metadata": {},
   "outputs": [],
   "source": []
  }
 ],
 "metadata": {
  "kernelspec": {
   "display_name": "cleavage_benchmark",
   "language": "python",
   "name": "python3"
  },
  "language_info": {
   "codemirror_mode": {
    "name": "ipython",
    "version": 3
   },
   "file_extension": ".py",
   "mimetype": "text/x-python",
   "name": "python",
   "nbconvert_exporter": "python",
   "pygments_lexer": "ipython3",
   "version": "3.10.8"
  }
 },
 "nbformat": 4,
 "nbformat_minor": 2
}
