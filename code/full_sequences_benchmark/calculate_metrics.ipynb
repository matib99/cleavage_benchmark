{
 "cells": [
  {
   "cell_type": "code",
   "execution_count": 1,
   "metadata": {},
   "outputs": [],
   "source": [
    "import numpy as np\n",
    "import pandas as pd\n",
    "from ast import literal_eval"
   ]
  },
  {
   "cell_type": "code",
   "execution_count": 2,
   "metadata": {},
   "outputs": [],
   "source": [
    "# dataset_path = '../../data/benchmark/full_test.csv'\n",
    "dataset_path = '../../data/benchmark/lt2_windows__cvs_gt2.csv'\n",
    "# dataset_path = '../../data/benchmark/multiple_windows.csv'\n",
    "\n",
    "\n",
    "n_preds_path = '../../data/benchmark/preds/n_esm2.npy'\n",
    "c_preds_path = '../../data/benchmark/preds/c_esm2.npy'\n",
    "# n_preds_path = '../../data/benchmark/preds/n_bilstm_att.npy'\n",
    "# c_preds_path = '../../data/benchmark/preds/c_bilstm_att.npy'\n",
    "# n_preds_path = '../../data/benchmark/preds/n_bilstm.npy'\n",
    "# c_preds_path = '../../data/benchmark/preds/c_bilstm.npy'\n",
    "# n_preds_path = '../../data/benchmark/preds/n_bilstm_mw.npy'\n",
    "# c_preds_path = '../../data/benchmark/preds/c_bilstm_mw.npy'"
   ]
  },
  {
   "cell_type": "code",
   "execution_count": 3,
   "metadata": {},
   "outputs": [
    {
     "data": {
      "text/html": [
       "<div>\n",
       "<style scoped>\n",
       "    .dataframe tbody tr th:only-of-type {\n",
       "        vertical-align: middle;\n",
       "    }\n",
       "\n",
       "    .dataframe tbody tr th {\n",
       "        vertical-align: top;\n",
       "    }\n",
       "\n",
       "    .dataframe thead th {\n",
       "        text-align: right;\n",
       "    }\n",
       "</style>\n",
       "<table border=\"1\" class=\"dataframe\">\n",
       "  <thead>\n",
       "    <tr style=\"text-align: right;\">\n",
       "      <th></th>\n",
       "      <th>protein</th>\n",
       "      <th>cleavages</th>\n",
       "    </tr>\n",
       "  </thead>\n",
       "  <tbody>\n",
       "    <tr>\n",
       "      <th>0</th>\n",
       "      <td>AAADSAQWLSVKEETIFLHDGLIRVTDLAELPSEILGAPEAADTDL...</td>\n",
       "      <td>[(52, 63), (17, 25), (52, 62)]</td>\n",
       "    </tr>\n",
       "    <tr>\n",
       "      <th>1</th>\n",
       "      <td>ACAWLEAQEEEEVGFPVRPQVPLRPMTYKAAVDLSHFLKEKGGLEG...</td>\n",
       "      <td>[(29, 37), (141, 150), (141, 149)]</td>\n",
       "    </tr>\n",
       "    <tr>\n",
       "      <th>2</th>\n",
       "      <td>AFAQRALSDSLSRRLRRHVPTHQSRRRSLGHLSPTARRACEDAIRC...</td>\n",
       "      <td>[(108, 116), (92, 100), (103, 112), (74, 82), ...</td>\n",
       "    </tr>\n",
       "    <tr>\n",
       "      <th>3</th>\n",
       "      <td>AWRRRRSGTSGKATWWCSGLRRASPTPSRRVQSWATAVMWKPSPSS...</td>\n",
       "      <td>[(224, 232), (225, 233), (219, 232), (65, 73)]</td>\n",
       "    </tr>\n",
       "    <tr>\n",
       "      <th>4</th>\n",
       "      <td>DHVASCGVNLYQFYGPSGQFTHEFDGDEQFYVDLEKKETAWRWPEF...</td>\n",
       "      <td>[(38, 46), (22, 31), (22, 32), (41, 49), (22, ...</td>\n",
       "    </tr>\n",
       "  </tbody>\n",
       "</table>\n",
       "</div>"
      ],
      "text/plain": [
       "                                             protein  \\\n",
       "0  AAADSAQWLSVKEETIFLHDGLIRVTDLAELPSEILGAPEAADTDL...   \n",
       "1  ACAWLEAQEEEEVGFPVRPQVPLRPMTYKAAVDLSHFLKEKGGLEG...   \n",
       "2  AFAQRALSDSLSRRLRRHVPTHQSRRRSLGHLSPTARRACEDAIRC...   \n",
       "3  AWRRRRSGTSGKATWWCSGLRRASPTPSRRVQSWATAVMWKPSPSS...   \n",
       "4  DHVASCGVNLYQFYGPSGQFTHEFDGDEQFYVDLEKKETAWRWPEF...   \n",
       "\n",
       "                                           cleavages  \n",
       "0                     [(52, 63), (17, 25), (52, 62)]  \n",
       "1                 [(29, 37), (141, 150), (141, 149)]  \n",
       "2  [(108, 116), (92, 100), (103, 112), (74, 82), ...  \n",
       "3     [(224, 232), (225, 233), (219, 232), (65, 73)]  \n",
       "4  [(38, 46), (22, 31), (22, 32), (41, 49), (22, ...  "
      ]
     },
     "execution_count": 3,
     "metadata": {},
     "output_type": "execute_result"
    }
   ],
   "source": [
    "data_df = pd.read_csv(dataset_path)\n",
    "data_df.head()"
   ]
  },
  {
   "cell_type": "code",
   "execution_count": 4,
   "metadata": {},
   "outputs": [
    {
     "data": {
      "text/plain": [
       "((867,), (867,))"
      ]
     },
     "execution_count": 4,
     "metadata": {},
     "output_type": "execute_result"
    }
   ],
   "source": [
    "c_preds = np.load(c_preds_path, allow_pickle=True)\n",
    "n_preds = np.load(n_preds_path, allow_pickle=True)\n",
    "\n",
    "n_preds.shape, c_preds.shape"
   ]
  },
  {
   "cell_type": "code",
   "execution_count": 5,
   "metadata": {},
   "outputs": [],
   "source": [
    "cleavages = data_df['cleavages'].apply(literal_eval).values\n",
    "seq_lens = data_df['protein'].apply(len).values"
   ]
  },
  {
   "cell_type": "code",
   "execution_count": null,
   "metadata": {},
   "outputs": [],
   "source": []
  },
  {
   "cell_type": "code",
   "execution_count": 6,
   "metadata": {},
   "outputs": [],
   "source": [
    "n_targets = [np.zeros(seq_len + 1) for seq_len in seq_lens]\n",
    "c_targets = [np.zeros(seq_len + 1) for seq_len in seq_lens]\n",
    "\n",
    "for i, cleavage in enumerate(cleavages):\n",
    "    for n, c in cleavage:\n",
    "        n_targets[i][n - 1] = 1\n",
    "        c_targets[i][c] = 1"
   ]
  },
  {
   "cell_type": "code",
   "execution_count": 7,
   "metadata": {},
   "outputs": [
    {
     "data": {
      "text/plain": [
       "array([-1.5493163 , -1.477784  , -0.6431524 , -1.3312005 , -0.31533682,\n",
       "       -0.59963495, -1.1217619 , -0.05622941,  0.00632592, -0.83161736,\n",
       "        0.31935447, -1.0659126 , -0.5861283 , -1.4277213 ,  0.20779882,\n",
       "       -1.3989862 , -1.4045691 , -0.8790149 , -1.3232083 , -1.1423447 ,\n",
       "       -0.15992059, -1.2301158 , -1.1734009 , -0.2195705 , -1.6082132 ,\n",
       "       -0.54565763, -0.8597211 , -1.6202878 , -0.3930518 , -0.01408741,\n",
       "       -0.34304947, -0.92231363, -1.3887542 , -0.8262506 , -0.33348638,\n",
       "       -1.0136576 ,  0.08828376, -1.4210712 , -0.04439436, -1.618097  ,\n",
       "       -1.1323441 , -1.0056063 , -0.32333136, -0.8596663 , -1.4822098 ,\n",
       "       -0.90499717, -0.8370078 , -0.1336657 , -1.0613092 , -1.2241453 ,\n",
       "       -0.9935928 ,  1.1524882 , -1.1158568 , -1.2499862 , -0.8290754 ,\n",
       "       -0.21598546, -1.4967397 , -1.0162532 , -1.5972667 , -0.9724007 ,\n",
       "       -0.32270867, -0.6361343 , -0.37956482, -1.046321  , -1.2337267 ,\n",
       "       -0.76311237,  0.4928723 , -0.37259036, -1.5076097 , -1.6037141 ,\n",
       "       -0.8983031 , -1.0085639 , -0.7973142 , -0.48901826,  0.45153522,\n",
       "       -1.4574586 , -1.2774959 , -1.5943127 , -1.0962853 ,  0.47380418,\n",
       "       -0.9211902 , -0.36212528, -1.4844869 , -0.227708  , -1.3486855 ,\n",
       "       -1.1560639 , -1.3703029 , -1.1044184 , -1.2702302 , -1.3540523 ,\n",
       "        0.3777125 , -0.99696785,  0.06962891, -1.3631307 , -0.7125123 ,\n",
       "       -0.8114919 , -1.5667801 , -1.4013102 , -0.43117803, -0.9196206 ],\n",
       "      dtype=float32)"
      ]
     },
     "execution_count": 7,
     "metadata": {},
     "output_type": "execute_result"
    }
   ],
   "source": [
    "n_preds[1][:100]"
   ]
  },
  {
   "cell_type": "code",
   "execution_count": 8,
   "metadata": {},
   "outputs": [],
   "source": [
    "def sigmoid(x):\n",
    "    return 1 / (1 + np.exp(-x))"
   ]
  },
  {
   "cell_type": "code",
   "execution_count": 9,
   "metadata": {},
   "outputs": [],
   "source": [
    "n_preds = [sigmoid(pred) for pred in n_preds]\n",
    "c_preds = [sigmoid(pred) for pred in c_preds]"
   ]
  },
  {
   "cell_type": "code",
   "execution_count": null,
   "metadata": {},
   "outputs": [],
   "source": []
  },
  {
   "cell_type": "code",
   "execution_count": 10,
   "metadata": {},
   "outputs": [
    {
     "data": {
      "text/plain": [
       "(array([0.47291437, 0.57571363, 0.20895435, 0.27256435, 0.31234348,\n",
       "        0.49782002, 0.21308649, 0.22252758, 0.33195233, 0.43059996,\n",
       "        0.1858279 , 0.3521353 , 0.3376633 , 0.5065383 , 0.29327598,\n",
       "        0.2530607 , 0.4906245 , 0.33899587, 0.27961215, 0.22304684,\n",
       "        0.3563569 , 0.22074313, 0.42774245, 0.3917463 , 0.40381032,\n",
       "        0.2547266 , 0.26925185, 0.23390807, 0.6422233 , 0.32513678,\n",
       "        0.5538558 , 0.18562925, 0.32475355, 0.25410038, 0.29466   ,\n",
       "        0.2473898 , 0.3581459 , 0.6029191 , 0.2151792 , 0.38179174,\n",
       "        0.34068054, 0.20774594, 0.38017696, 0.30772215, 0.20103541,\n",
       "        0.38746017, 0.3203793 , 0.28755048, 0.31707647, 0.24807149,\n",
       "        0.34965956, 0.47624537, 0.3737139 , 0.19574408, 0.4458869 ,\n",
       "        0.21552825, 0.33451423, 0.29643092, 0.29898688, 0.3781772 ,\n",
       "        0.3605462 , 0.37214425, 0.19989909, 0.35577923, 0.42168745,\n",
       "        0.20249602, 0.15639712, 0.21377671, 0.44574136, 0.33836973,\n",
       "        0.19947584, 0.3817433 , 0.2718124 , 0.3790802 , 0.4252369 ,\n",
       "        0.64488655, 0.21573183, 0.37516782, 0.19624792, 0.5384092 ,\n",
       "        0.40757024, 0.20883167, 0.2703672 , 0.39312908, 0.24012579,\n",
       "        0.25119844, 0.5327241 , 0.18322909, 0.1870643 , 0.24243349,\n",
       "        0.3875542 , 0.35946256, 0.41966116, 0.2602157 , 0.3331263 ,\n",
       "        0.3374937 , 0.3352784 , 0.4398084 , 0.25805935, 0.29363695,\n",
       "        0.42686433, 0.24822827, 0.49510083, 0.32068816, 0.31481293,\n",
       "        0.21203658, 0.20882317, 0.37660646, 0.47904527, 0.28432292],\n",
       "       dtype=float32),\n",
       " array([0., 0., 0., 0., 0., 0., 0., 0., 0., 0., 0., 0., 0., 0., 0., 0., 1.,\n",
       "        0., 0., 0., 0., 0., 0., 0., 0., 0., 0., 0., 0., 0., 0., 0., 0., 0.,\n",
       "        0., 0., 0., 0., 0., 0., 0., 0., 0., 0., 0., 0., 0., 0., 0., 0., 0.,\n",
       "        1., 0., 0., 0., 0., 0., 0., 0., 0., 0., 0., 0., 0., 0., 0., 0., 0.,\n",
       "        0., 0., 0., 0., 0., 0., 0., 0., 0., 0., 0., 0., 0., 0., 0., 0., 0.,\n",
       "        0., 0., 0., 0., 0., 0., 0., 0., 0., 0., 0., 0., 0., 0., 0., 0., 0.,\n",
       "        0., 0., 0., 0., 0., 0., 0., 0.]))"
      ]
     },
     "execution_count": 10,
     "metadata": {},
     "output_type": "execute_result"
    }
   ],
   "source": [
    "n_preds[0], n_targets[0]"
   ]
  },
  {
   "cell_type": "code",
   "execution_count": 11,
   "metadata": {},
   "outputs": [
    {
     "data": {
      "text/plain": [
       "array([ 0.47291437,  0.57571363,  0.20895435,  0.27256435,  0.31234348,\n",
       "        0.49782002,  0.21308649,  0.22252758,  0.33195233,  0.43059996,\n",
       "        0.1858279 ,  0.3521353 ,  0.33766329,  0.50653827,  0.29327598,\n",
       "        0.2530607 , -0.50937551,  0.33899587,  0.27961215,  0.22304684,\n",
       "        0.35635689,  0.22074313,  0.42774245,  0.39174631,  0.40381032,\n",
       "        0.25472659,  0.26925185,  0.23390807,  0.6422233 ,  0.32513678,\n",
       "        0.55385578,  0.18562925,  0.32475355,  0.25410038,  0.29466   ,\n",
       "        0.24738979,  0.35814589,  0.6029191 ,  0.2151792 ,  0.38179174,\n",
       "        0.34068054,  0.20774594,  0.38017696,  0.30772215,  0.20103541,\n",
       "        0.38746017,  0.32037929,  0.28755048,  0.31707647,  0.24807149,\n",
       "        0.34965956, -0.52375463,  0.37371391,  0.19574408,  0.44588691,\n",
       "        0.21552825,  0.33451423,  0.29643092,  0.29898688,  0.3781772 ,\n",
       "        0.3605462 ,  0.37214425,  0.19989909,  0.35577923,  0.42168745,\n",
       "        0.20249602,  0.15639712,  0.21377671,  0.44574136,  0.33836973,\n",
       "        0.19947584,  0.38174331,  0.27181241,  0.37908021,  0.42523691,\n",
       "        0.64488655,  0.21573183,  0.37516782,  0.19624792,  0.53840917,\n",
       "        0.40757024,  0.20883167,  0.27036721,  0.39312908,  0.24012579,\n",
       "        0.25119844,  0.53272408,  0.18322909,  0.1870643 ,  0.24243349,\n",
       "        0.3875542 ,  0.35946256,  0.41966116,  0.2602157 ,  0.33312631,\n",
       "        0.33749369,  0.33527839,  0.4398084 ,  0.25805935,  0.29363695,\n",
       "        0.42686433,  0.24822827,  0.49510083,  0.32068816,  0.31481293,\n",
       "        0.21203658,  0.20882317,  0.37660646,  0.47904527,  0.28432292])"
      ]
     },
     "execution_count": 11,
     "metadata": {},
     "output_type": "execute_result"
    }
   ],
   "source": [
    "n_preds[0] - n_targets[0]"
   ]
  },
  {
   "cell_type": "code",
   "execution_count": 12,
   "metadata": {},
   "outputs": [
    {
     "data": {
      "text/plain": [
       "((397783,), (397783,), (397783,), (397783,))"
      ]
     },
     "execution_count": 12,
     "metadata": {},
     "output_type": "execute_result"
    }
   ],
   "source": [
    "c_preds_concat = np.concatenate(c_preds)\n",
    "n_preds_concat = np.concatenate(n_preds)\n",
    "\n",
    "c_targets_concat = np.concatenate(c_targets)\n",
    "n_targets_concat = np.concatenate(n_targets)\n",
    "\n",
    "c_preds_concat.shape, n_preds_concat.shape, c_targets_concat.shape, n_targets_concat.shape"
   ]
  },
  {
   "cell_type": "code",
   "execution_count": 13,
   "metadata": {},
   "outputs": [],
   "source": [
    "from sklearn import metrics"
   ]
  },
  {
   "cell_type": "code",
   "execution_count": 14,
   "metadata": {},
   "outputs": [
    {
     "name": "stdout",
     "output_type": "stream",
     "text": [
      "C - Terminus ROC AUC: 0.763207411964418\n",
      "N - Terminus ROC AUC: 0.6721562688452857\n"
     ]
    }
   ],
   "source": [
    "fpr_c, tpr_c, thresholds_c = metrics.roc_curve(c_targets_concat, c_preds_concat)\n",
    "fpr_n, tpr_n, thresholds_n = metrics.roc_curve(n_targets_concat, n_preds_concat)\n",
    "\n",
    "roc_auc_c = metrics.auc(fpr_c, tpr_c)\n",
    "roc_auc_n = metrics.auc(fpr_n, tpr_n)\n",
    "\n",
    "print(f\"C - Terminus ROC AUC: {roc_auc_c}\")\n",
    "print(f\"N - Terminus ROC AUC: {roc_auc_n}\")"
   ]
  },
  {
   "cell_type": "code",
   "execution_count": 15,
   "metadata": {},
   "outputs": [],
   "source": [
    "import matplotlib.pyplot as plt"
   ]
  },
  {
   "cell_type": "code",
   "execution_count": 16,
   "metadata": {},
   "outputs": [
    {
     "data": {
      "image/png": "[encoded data removed]",
      "text/plain": [
       "<Figure size 1200x600 with 2 Axes>"
      ]
     },
     "metadata": {},
     "output_type": "display_data"
    }
   ],
   "source": [
    "# plot ROC curves for both models (on separate plots):\n",
    "\n",
    "fig, ax = plt.subplots(1, 2, figsize=(12, 6))\n",
    "ax[0].plot(fpr_c, tpr_c, label=f\"C - Terminus ROC AUC: {roc_auc_c}\")\n",
    "ax[0].plot([0, 1], [0, 1], 'k--')\n",
    "ax[0].set_xlabel('False Positive Rate')\n",
    "ax[0].set_ylabel('True Positive Rate')\n",
    "ax[0].set_title('C - Terminus ROC Curve')\n",
    "ax[0].legend()\n",
    "\n",
    "ax[1].plot(fpr_n, tpr_n, label=f\"N - Terminus ROC AUC: {roc_auc_n}\")\n",
    "ax[1].plot([0, 1], [0, 1], 'k--')\n",
    "ax[1].set_xlabel('False Positive Rate')\n",
    "ax[1].set_ylabel('True Positive Rate')\n",
    "ax[1].set_title('N - Terminus ROC Curve')\n",
    "ax[1].legend()\n",
    "\n",
    "plt.show()"
   ]
  },
  {
   "cell_type": "code",
   "execution_count": 17,
   "metadata": {},
   "outputs": [],
   "source": [
    "trh = 0.5"
   ]
  },
  {
   "cell_type": "code",
   "execution_count": 18,
   "metadata": {},
   "outputs": [
    {
     "name": "stdout",
     "output_type": "stream",
     "text": [
      "C Terminus Precission: 0.0330341671479984\n",
      "N Terminus Precission: 0.02697529228141473\n"
     ]
    }
   ],
   "source": [
    "print(f\"C Terminus Precission: {metrics.precision_score(c_targets_concat, c_preds_concat > trh)}\")\n",
    "print(f\"N Terminus Precission: {metrics.precision_score(n_targets_concat, n_preds_concat > trh)}\")"
   ]
  },
  {
   "cell_type": "code",
   "execution_count": 19,
   "metadata": {},
   "outputs": [
    {
     "name": "stdout",
     "output_type": "stream",
     "text": [
      "C Terminus Recall: 0.4007006197790353\n",
      "N Terminus Recall: 0.24663435648896068\n"
     ]
    }
   ],
   "source": [
    "print(f\"C Terminus Recall: {metrics.recall_score(c_targets_concat, c_preds_concat > trh)}\")\n",
    "print(f\"N Terminus Recall: {metrics.recall_score(n_targets_concat, n_preds_concat > trh)}\")"
   ]
  },
  {
   "cell_type": "code",
   "execution_count": 20,
   "metadata": {},
   "outputs": [
    {
     "name": "stdout",
     "output_type": "stream",
     "text": [
      "C Terminus F1: 0.06103642893791688\n",
      "N Terminus F1: 0.048631573358817126\n"
     ]
    }
   ],
   "source": [
    "print(f\"C Terminus F1: {metrics.f1_score(c_targets_concat, c_preds_concat > trh)}\")\n",
    "print(f\"N Terminus F1: {metrics.f1_score(n_targets_concat, n_preds_concat > trh)}\")"
   ]
  },
  {
   "cell_type": "code",
   "execution_count": 29,
   "metadata": {},
   "outputs": [
    {
     "data": {
      "text/plain": [
       "array([0.66666667, 0.33333333, 0.        , 0.5       , 0.16666667,\n",
       "       0.83333333])"
      ]
     },
     "execution_count": 29,
     "metadata": {},
     "output_type": "execute_result"
    }
   ],
   "source": [
    "arr = np.array([1, 3, 5, 2, 4, 0])\n",
    "np.argsort(-arr).argsort()/(len(arr))"
   ]
  },
  {
   "cell_type": "code",
   "execution_count": 31,
   "metadata": {},
   "outputs": [
    {
     "data": {
      "image/png": "[encoded data removed]",
      "text/plain": [
       "<Figure size 1200x600 with 2 Axes>"
      ]
     },
     "metadata": {},
     "output_type": "display_data"
    }
   ],
   "source": [
    "# N terminus positives rank\n",
    "n_pos_quantiles = []\n",
    "\n",
    "for n_pred, n_target in zip(n_preds, n_targets):\n",
    "    positive_indices = np.where(n_target == 1)[0]\n",
    "    normalized_ranks = np.argsort(-n_pred).argsort() / len(n_pred)\n",
    "    n_pos_quantiles.extend(normalized_ranks[positive_indices])    \n",
    "\n",
    "c_pos_quantiles = []\n",
    "\n",
    "for c_pred, c_target in zip(c_preds, c_targets):\n",
    "    positive_indices = np.where(c_target == 1)[0]\n",
    "    normalized_ranks = np.argsort(-c_pred).argsort() / len(c_pred)\n",
    "    c_pos_quantiles.extend(normalized_ranks[positive_indices])\n",
    "\n",
    "\n",
    "# plot histograms\n",
    "fig, ax = plt.subplots(1, 2, figsize=(12, 6))\n",
    "ax[0].hist(n_pos_quantiles, bins=50)\n",
    "ax[0].set_title('N Terminus Positive Rank Distribution')\n",
    "ax[0].set_xlabel('Rank')\n",
    "ax[0].set_ylabel('Frequency')\n",
    "\n",
    "ax[1].hist(c_pos_quantiles, bins=50)\n",
    "ax[1].set_title('C Terminus Positive Rank Distribution')\n",
    "ax[1].set_xlabel('Rank')\n",
    "ax[1].set_ylabel('Frequency')\n",
    "\n",
    "plt.show()"
   ]
  },
  {
   "cell_type": "code",
   "execution_count": 47,
   "metadata": {},
   "outputs": [
    {
     "name": "stdout",
     "output_type": "stream",
     "text": [
      "[(52, 63), (17, 25), (52, 62)]\n"
     ]
    },
    {
     "data": {
      "text/plain": [
       "([(76, 80),\n",
       "  (38, 51),\n",
       "  (69, 74),\n",
       "  (76, 85),\n",
       "  (76, 89),\n",
       "  (65, 74),\n",
       "  (52, 59),\n",
       "  (29, 41),\n",
       "  (55, 59),\n",
       "  (60, 74)],\n",
       " [0.44099376,\n",
       "  0.38585845,\n",
       "  0.37903285,\n",
       "  0.37167194,\n",
       "  0.3658451,\n",
       "  0.3585788,\n",
       "  0.34883747,\n",
       "  0.3283599,\n",
       "  0.32660067,\n",
       "  0.32158017])"
      ]
     },
     "execution_count": 47,
     "metadata": {},
     "output_type": "execute_result"
    }
   ],
   "source": [
    "# Heuristic epitope retrieval\n",
    "\n",
    "def get_epitopes(n_pred, c_pred, min_epitope_len=4, max_epitope_len=16, top_k=50):\n",
    "    threshold_c = np.sort(-c_pred)[top_k]\n",
    "    threshold_n = np.sort(-n_pred)[top_k]\n",
    "    epitopes = []\n",
    "    probs = []\n",
    "    \n",
    "    for n in range(len(n_pred)):\n",
    "        if n_pred[n] < threshold_n:\n",
    "            continue\n",
    "        for c in range(n + min_epitope_len, min(n + max_epitope_len + 1, len(c_pred))):\n",
    "            if c_pred[c] < threshold_c:\n",
    "                continue\n",
    "            epitopes.append((n+1, c))\n",
    "            probs.append(n_pred[n] * c_pred[c])\n",
    "        sorted_indices = np.argsort(-np.array(probs))\n",
    "        epitopes = [epitopes[i] for i in sorted_indices]\n",
    "        probs = [probs[i] for i in sorted_indices]\n",
    "\n",
    "    return epitopes, probs\n",
    "\n",
    "print(cleavages[0])\n",
    "eps, probs = get_epitopes(n_preds[0], c_preds[0])\n",
    "eps[:10], probs[:10]"
   ]
  },
  {
   "cell_type": "code",
   "execution_count": 49,
   "metadata": {},
   "outputs": [
    {
     "name": "stderr",
     "output_type": "stream",
     "text": [
      "100%|██████████| 867/867 [7:40:18<00:00, 31.85s/it]      "
     ]
    },
    {
     "name": "stdout",
     "output_type": "stream",
     "text": [
      "At 1:\n",
      "Precision: 0.03690888119953864\n",
      "Recall: 0.00831781316210382\n",
      "R-Precision: 0.03690888119953864\n",
      "\n",
      "At 2:\n",
      "Precision: 0.03460207612456748\n",
      "Recall: 0.015134937621198562\n",
      "R-Precision: 0.03460207612456748\n",
      "\n",
      "At 3:\n",
      "Precision: 0.029219530949634753\n",
      "Recall: 0.01939428842034175\n",
      "R-Precision: 0.029219530949634753\n",
      "\n",
      "At 5:\n",
      "Precision: 0.02583621683967705\n",
      "Recall: 0.02921324365452189\n",
      "R-Precision: 0.02572087658592849\n",
      "\n",
      "At 10:\n",
      "Precision: 0.023414071510957327\n",
      "Recall: 0.053505607215153315\n",
      "R-Precision: 0.024981234323794878\n",
      "\n"
     ]
    },
    {
     "name": "stderr",
     "output_type": "stream",
     "text": [
      "\n"
     ]
    }
   ],
   "source": [
    "from tqdm import tqdm\n",
    "\n",
    "def calculate_at_K_metrics(n_preds, c_preds, cleavages, Ks=[1, 2, 3, 5, 10]):\n",
    "    metrics = {\n",
    "        k: {\n",
    "            'precision': [],\n",
    "            'recall': [],\n",
    "            'rprecision': []\n",
    "        } for k in Ks\n",
    "    }\n",
    "    for n_pred, c_pred, cleavs in tqdm(zip(n_preds, c_preds, cleavages), total=len(n_preds)):\n",
    "        pred_epitopes, _ = get_epitopes(n_pred, c_pred, top_k=25)\n",
    "        for k in Ks:\n",
    "            r = int(len(cleavs))\n",
    "            s = min(k, r)\n",
    "            pred_epitopes_k = pred_epitopes[:k]\n",
    "            intersection = set(tuple(x) for x in pred_epitopes_k) & set(tuple(x) for x in cleavs)\n",
    "            metrics[k]['precision'].append(len(intersection) / k)\n",
    "            metrics[k]['recall'].append(len(intersection) / r)\n",
    "            pred_epitopes_s = pred_epitopes[:s]\n",
    "            intersection = set(tuple(x) for x in pred_epitopes_s) & set(tuple(x) for x in cleavs)\n",
    "            metrics[k]['rprecision'].append(len(intersection) / s)\n",
    "    for k in Ks:\n",
    "        print(f\"At {k}:\")\n",
    "        print(f\"Precision: {np.mean(metrics[k]['precision'])}\")\n",
    "        print(f\"Recall: {np.mean(metrics[k]['recall'])}\")\n",
    "        print(f\"R-Precision: {np.mean(metrics[k]['rprecision'])}\")\n",
    "        print()\n",
    "\n",
    "calculate_at_K_metrics(n_preds, c_preds, cleavages)\n",
    "        "
   ]
  },
  {
   "cell_type": "code",
   "execution_count": null,
   "metadata": {},
   "outputs": [
    {
     "name": "stdout",
     "output_type": "stream",
     "text": [
      "Protein 0\n",
      "Positive N preds: [ 1 13 28 30 37 75 79 86]\n",
      "Positive N targets: [16 51]\n",
      "\n",
      "Positive C preds: [ 18  25  28  41  51  59  63  66  74  80  85  89  97 103]\n",
      "Positive C targets: [25 62 63]\n",
      "\n",
      "Protein 1\n",
      "Positive N preds: [  8  10  14  36  51  66  74  79  90  92 100 105 112 118 125 129 133]\n",
      "Positive N targets: [ 28 140]\n",
      "\n",
      "Positive C preds: [  4  15  21  28  37  38  47  52  60  67  74  82  88 103 111 117 128 138\n",
      " 145 149 150]\n",
      "Positive C targets: [ 37 149 150]\n",
      "\n",
      "Protein 2\n",
      "Positive N preds: [ 12  15  41  43  48  70 107 124 135 149 158 164 169 172 195 197 230 245\n",
      " 254 263 268 273 289 309 320 328 329 349 362 397 403 407 412 424 433 447\n",
      " 465 471 478 485 492 500 506 518 520 524 538 540 547 560 573 575 587]\n",
      "Positive N targets: [ 73  91 102 107 309]\n",
      "\n",
      "Positive C preds: [  2   7  11  25  48  53  58  81  92  98 102 112 116 127 142 152 161 167\n",
      " 177 184 191 203 210 215 233 248 252 260 280 284 285 289 297 301 311 315\n",
      " 319 323 329 338 356 362 372 379 388 391 415 420 426 432 439 445 450 460\n",
      " 466 476 481 488 503 517 527 537 543 556 573 584]\n",
      "Positive C targets: [ 82 100 112 116 320]\n",
      "\n",
      "Protein 3\n",
      "Positive N preds: [ 20  23  28  40  46  57  74  87  97 103 113 119 129 135 145 151 185 188\n",
      " 201 205 218 223 246 250]\n",
      "Positive N targets: [ 64 218 223 224]\n",
      "\n",
      "Positive C preds: [  2  15  16  20  34  40  51  56  63  73  82  88  93 104 109 120 125 136\n",
      " 141 152 168 170 192 193 198 215 232 246 257]\n",
      "Positive C targets: [ 73 232 233]\n",
      "\n",
      "Protein 4\n",
      "Positive N preds: [12 17 19 21 29 40]\n",
      "Positive N targets: [21 37 38 40]\n",
      "\n",
      "Positive C preds: [ 4 14 20 24 30 31 41 43 49 58 61 68 74]\n",
      "Positive C targets: [30 31 32 46 49]\n",
      "\n",
      "Protein 5\n",
      "Positive N preds: [  0  19  32  36  48  57  60  62  65  82  87  95 101 105 109 117 121 125\n",
      " 136 141 148 154 158 160 182 184]\n",
      "Positive N targets: [106 109 156]\n",
      "\n",
      "Positive C preds: [  3  10  35  47  51  54  57  80  94 100 118 123 134 141 165 181 185]\n",
      "Positive C targets: [118 165]\n",
      "\n",
      "Protein 6\n",
      "Positive N preds: [  2  14  23  40  44  58  71  78 110 112 116 122]\n",
      "Positive N targets: [44 58 78 79 88]\n",
      "\n",
      "Positive C preds: [  5  11  17  34  43  47  52  68  77  81  89  98 109 113 124]\n",
      "Positive C targets: [54 55 68 88 89 98]\n",
      "\n",
      "Protein 7\n",
      "Positive N preds: [ 27  38  41  45  74 102 115 120 131 132 148 153 155 161 174 192 196 208\n",
      " 209 216 228 256 290 302 327 347 348 360 372 384 388 397 408 416 437 453\n",
      " 454 475 495 510 521 535 542 571 580 585 604 636 640 646 668 676 682 690]\n",
      "Positive N targets: [331 407 408]\n",
      "\n",
      "Positive C preds: [ 13  36  45 100 106 109 123 128 151 171 183 201 205 217 219 228 232 240\n",
      " 259 262 266 270 279 282 295 303 307 317 334 340 343 347 350 355 365 370\n",
      " 405 411 416 424 432 440 448 452 463 470 474 478 480 487 492 502 509 513\n",
      " 520 528 542 550 555 560 566 574 578 588 592 602 611 618 626 628 629 647\n",
      " 657 659 665 676 683 688]\n",
      "Positive C targets: [340 416]\n",
      "\n",
      "Protein 8\n",
      "Positive N preds: [ 13  17  33  59  79  83 100 109 110 116 123 134 139 147 171 182 184 189\n",
      " 193 198 202 204 214 219 225 236 245 256 260 271 279 290 312 322 327 343\n",
      " 359 366 370 376 385 393 412 436 449 451 456 465 469 473 482 488 492]\n",
      "Positive N targets: [ 41  78 106 123 184 214 233]\n",
      "\n",
      "Positive C preds: [  1   7   8  20  24  32  42  50  64  80  81  87 103 109 125 132 140 147\n",
      " 155 159 163 174 179 183 184 198 207 213 224 233 242 246 250 255 259 263\n",
      " 267 268 282 291 292 296 303 307 317 325 329 336 343 347 366 368 379 391\n",
      " 396 404 411 428 436 445 454 465 469 476 501 508 512]\n",
      "Positive C targets: [ 50  87 118 132 202 224 242]\n",
      "\n",
      "Protein 9\n",
      "Positive N preds: [ 12  17  27  41  71  81 110 126 134 150 166 172 182 187 201 204 215 219]\n",
      "Positive N targets: [ 34 149 201]\n",
      "\n",
      "Positive C preds: [  1   7  11  31  72  79  88  95 102 111 117 124 126 135 142 154 171 178\n",
      " 183 196 199 203 210 211 218 226]\n",
      "Positive C targets: [ 44 158 210]\n",
      "\n"
     ]
    }
   ],
   "source": [
    "for i in range(10):\n",
    "    pos_n_preds_idx = np.where(n_preds[i] > trh)[0]\n",
    "    pos_c_preds_idx = np.where(c_preds[i] > trh)[0]\n",
    "    pos_n_targets_idx = np.where(n_targets[i])[0]\n",
    "    pos_c_targets_idx = np.where(c_targets[i])[0]\n",
    "\n",
    "    print(f\"Protein {i}\")\n",
    "    print(f\"Positive N preds: {pos_n_preds_idx}\")\n",
    "    print(f\"Positive N targets: {pos_n_targets_idx}\")\n",
    "    print()\n",
    "    print(f\"Positive C preds: {pos_c_preds_idx}\")\n",
    "    print(f\"Positive C targets: {pos_c_targets_idx}\")\n",
    "    print()"
   ]
  },
  {
   "cell_type": "code",
   "execution_count": null,
   "metadata": {},
   "outputs": [],
   "source": []
  }
 ],
 "metadata": {
  "kernelspec": {
   "display_name": "cleavage_benchmark",
   "language": "python",
   "name": "python3"
  },
  "language_info": {
   "codemirror_mode": {
    "name": "ipython",
    "version": 3
   },
   "file_extension": ".py",
   "mimetype": "text/x-python",
   "name": "python",
   "nbconvert_exporter": "python",
   "pygments_lexer": "ipython3",
   "version": "3.10.8"
  }
 },
 "nbformat": 4,
 "nbformat_minor": 2
}
