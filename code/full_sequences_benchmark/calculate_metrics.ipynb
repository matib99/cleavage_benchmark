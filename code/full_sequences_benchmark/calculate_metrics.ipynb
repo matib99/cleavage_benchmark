{
 "cells": [
  {
   "cell_type": "code",
   "execution_count": 8,
   "metadata": {},
   "outputs": [],
   "source": [
    "import numpy as np\n",
    "import pandas as pd\n",
    "from ast import literal_eval"
   ]
  },
  {
   "cell_type": "code",
   "execution_count": 5,
   "metadata": {},
   "outputs": [],
   "source": [
    "dataset_path = '../../data/benchmark/lt2_windows__cvs_gt2.csv'\n",
    "\n",
    "n_preds_path = '../../data/benchmark/preds/n_bilstm.npy'\n",
    "c_preds_path = '../../data/benchmark/preds/c_bilstm.npy'"
   ]
  },
  {
   "cell_type": "code",
   "execution_count": 3,
   "metadata": {},
   "outputs": [
    {
     "data": {
      "text/html": [
       "<div>\n",
       "<style scoped>\n",
       "    .dataframe tbody tr th:only-of-type {\n",
       "        vertical-align: middle;\n",
       "    }\n",
       "\n",
       "    .dataframe tbody tr th {\n",
       "        vertical-align: top;\n",
       "    }\n",
       "\n",
       "    .dataframe thead th {\n",
       "        text-align: right;\n",
       "    }\n",
       "</style>\n",
       "<table border=\"1\" class=\"dataframe\">\n",
       "  <thead>\n",
       "    <tr style=\"text-align: right;\">\n",
       "      <th></th>\n",
       "      <th>protein</th>\n",
       "      <th>cleavages</th>\n",
       "    </tr>\n",
       "  </thead>\n",
       "  <tbody>\n",
       "    <tr>\n",
       "      <th>0</th>\n",
       "      <td>AAADSAQWLSVKEETIFLHDGLIRVTDLAELPSEILGAPEAADTDL...</td>\n",
       "      <td>[(52, 63), (17, 25), (52, 62)]</td>\n",
       "    </tr>\n",
       "    <tr>\n",
       "      <th>1</th>\n",
       "      <td>ACAWLEAQEEEEVGFPVRPQVPLRPMTYKAAVDLSHFLKEKGGLEG...</td>\n",
       "      <td>[(29, 37), (141, 150), (141, 149)]</td>\n",
       "    </tr>\n",
       "    <tr>\n",
       "      <th>2</th>\n",
       "      <td>AFAQRALSDSLSRRLRRHVPTHQSRRRSLGHLSPTARRACEDAIRC...</td>\n",
       "      <td>[(108, 116), (92, 100), (103, 112), (74, 82), ...</td>\n",
       "    </tr>\n",
       "    <tr>\n",
       "      <th>3</th>\n",
       "      <td>AWRRRRSGTSGKATWWCSGLRRASPTPSRRVQSWATAVMWKPSPSS...</td>\n",
       "      <td>[(224, 232), (225, 233), (219, 232), (65, 73)]</td>\n",
       "    </tr>\n",
       "    <tr>\n",
       "      <th>4</th>\n",
       "      <td>DHVASCGVNLYQFYGPSGQFTHEFDGDEQFYVDLEKKETAWRWPEF...</td>\n",
       "      <td>[(38, 46), (22, 31), (22, 32), (41, 49), (22, ...</td>\n",
       "    </tr>\n",
       "  </tbody>\n",
       "</table>\n",
       "</div>"
      ],
      "text/plain": [
       "                                             protein  \\\n",
       "0  AAADSAQWLSVKEETIFLHDGLIRVTDLAELPSEILGAPEAADTDL...   \n",
       "1  ACAWLEAQEEEEVGFPVRPQVPLRPMTYKAAVDLSHFLKEKGGLEG...   \n",
       "2  AFAQRALSDSLSRRLRRHVPTHQSRRRSLGHLSPTARRACEDAIRC...   \n",
       "3  AWRRRRSGTSGKATWWCSGLRRASPTPSRRVQSWATAVMWKPSPSS...   \n",
       "4  DHVASCGVNLYQFYGPSGQFTHEFDGDEQFYVDLEKKETAWRWPEF...   \n",
       "\n",
       "                                           cleavages  \n",
       "0                     [(52, 63), (17, 25), (52, 62)]  \n",
       "1                 [(29, 37), (141, 150), (141, 149)]  \n",
       "2  [(108, 116), (92, 100), (103, 112), (74, 82), ...  \n",
       "3     [(224, 232), (225, 233), (219, 232), (65, 73)]  \n",
       "4  [(38, 46), (22, 31), (22, 32), (41, 49), (22, ...  "
      ]
     },
     "execution_count": 3,
     "metadata": {},
     "output_type": "execute_result"
    }
   ],
   "source": [
    "data_df = pd.read_csv(dataset_path)\n",
    "data_df.head()"
   ]
  },
  {
   "cell_type": "code",
   "execution_count": 7,
   "metadata": {},
   "outputs": [
    {
     "data": {
      "text/plain": [
       "((867,), (867,))"
      ]
     },
     "execution_count": 7,
     "metadata": {},
     "output_type": "execute_result"
    }
   ],
   "source": [
    "n_preds = np.load(n_preds_path, allow_pickle=True)\n",
    "c_preds = np.load(c_preds_path, allow_pickle=True)\n",
    "\n",
    "n_preds.shape, c_preds.shape"
   ]
  },
  {
   "cell_type": "code",
   "execution_count": 11,
   "metadata": {},
   "outputs": [],
   "source": [
    "cleavages = data_df['cleavages'].apply(literal_eval).values\n",
    "seq_lens = data_df['protein'].apply(len).values"
   ]
  },
  {
   "cell_type": "code",
   "execution_count": null,
   "metadata": {},
   "outputs": [],
   "source": [
    "n_targets = [np.zeros(seq_len + 1) for seq_len in seq_lens]\n",
    "c_targets = [np.zeros(seq_len + 1) for seq_len in seq_lens]\n",
    "\n",
    "for i, cleavage in enumerate(cleavages):\n",
    "    for n, c in cleavage:\n",
    "        n_targets[i][n - 1] = 1\n",
    "        c_targets[i][c - 1] = 1"
   ]
  }
 ],
 "metadata": {
  "kernelspec": {
   "display_name": "cleavage_benchmark",
   "language": "python",
   "name": "python3"
  },
  "language_info": {
   "codemirror_mode": {
    "name": "ipython",
    "version": 3
   },
   "file_extension": ".py",
   "mimetype": "text/x-python",
   "name": "python",
   "nbconvert_exporter": "python",
   "pygments_lexer": "ipython3",
   "version": "3.10.8"
  }
 },
 "nbformat": 4,
 "nbformat_minor": 2
}
